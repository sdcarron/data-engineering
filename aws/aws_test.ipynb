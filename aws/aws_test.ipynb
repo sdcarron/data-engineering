{
 "cells": [
  {
   "cell_type": "code",
   "execution_count": 1,
   "id": "f987f5a7-1509-4170-b10b-b322b736929f",
   "metadata": {},
   "outputs": [
    {
     "name": "stdout",
     "output_type": "stream",
     "text": [
      "hello world\n"
     ]
    }
   ],
   "source": [
    "print ('hello world')"
   ]
  },
  {
   "cell_type": "code",
   "execution_count": 2,
   "id": "ffd1075d-a44e-4937-83ac-093e4819c76c",
   "metadata": {},
   "outputs": [
    {
     "data": {
      "text/plain": [
       "{'ResponseMetadata': {'RequestId': '648SA3V6BYJJ84K4',\n",
       "  'HostId': 'znvvJ2poGVuIzPKrvhE1H8YeZLxXk0C3a7SEDXLBf9VPjTbAR+QYUc+ZkMBcqhFeFyOXmiMSEKU=',\n",
       "  'HTTPStatusCode': 200,\n",
       "  'HTTPHeaders': {'x-amz-id-2': 'znvvJ2poGVuIzPKrvhE1H8YeZLxXk0C3a7SEDXLBf9VPjTbAR+QYUc+ZkMBcqhFeFyOXmiMSEKU=',\n",
       "   'x-amz-request-id': '648SA3V6BYJJ84K4',\n",
       "   'date': 'Tue, 20 Feb 2024 12:11:03 GMT',\n",
       "   'content-type': 'application/xml',\n",
       "   'transfer-encoding': 'chunked',\n",
       "   'server': 'AmazonS3'},\n",
       "  'RetryAttempts': 0},\n",
       " 'Buckets': [{'Name': 'sdc-github',\n",
       "   'CreationDate': datetime.datetime(2023, 2, 10, 16, 38, 53, tzinfo=tzutc())},\n",
       "  {'Name': 'sdc-retail',\n",
       "   'CreationDate': datetime.datetime(2023, 2, 12, 15, 14, 48, tzinfo=tzutc())},\n",
       "  {'Name': 'sdc-retail-copy',\n",
       "   'CreationDate': datetime.datetime(2023, 2, 12, 17, 4, 45, tzinfo=tzutc())}],\n",
       " 'Owner': {'DisplayName': 'sdcarron',\n",
       "  'ID': '10167986423236a872c75602661c224d368d1df5e6a35e82fd93204cdf9e3d14'}}"
      ]
     },
     "execution_count": 2,
     "metadata": {},
     "output_type": "execute_result"
    }
   ],
   "source": [
    "import boto3\n",
    "s3_client = boto3.client ('s3')\n",
    "s3_client.list_buckets ()"
   ]
  },
  {
   "cell_type": "code",
   "execution_count": 3,
   "id": "bab74a41-d490-4c29-b8a1-16d95cd09f90",
   "metadata": {},
   "outputs": [
    {
     "data": {
      "text/plain": [
       "[{'Name': 'sdc-github',\n",
       "  'CreationDate': datetime.datetime(2023, 2, 10, 16, 38, 53, tzinfo=tzutc())},\n",
       " {'Name': 'sdc-retail',\n",
       "  'CreationDate': datetime.datetime(2023, 2, 12, 15, 14, 48, tzinfo=tzutc())},\n",
       " {'Name': 'sdc-retail-copy',\n",
       "  'CreationDate': datetime.datetime(2023, 2, 12, 17, 4, 45, tzinfo=tzutc())}]"
      ]
     },
     "execution_count": 3,
     "metadata": {},
     "output_type": "execute_result"
    }
   ],
   "source": [
    "s3_client.list_buckets () [\"Buckets\"]"
   ]
  },
  {
   "cell_type": "code",
   "execution_count": 4,
   "id": "9c28140e-0051-45b2-a450-12865c6e22e5",
   "metadata": {},
   "outputs": [
    {
     "name": "stdout",
     "output_type": "stream",
     "text": [
      "['sdc-github', 'sdc-retail', 'sdc-retail-copy']\n"
     ]
    }
   ],
   "source": [
    "s3_bucketnames = [s3_bucket [\"Name\"] for s3_bucket in s3_client.list_buckets () [\"Buckets\"]]\n",
    "print (s3_bucketnames)"
   ]
  },
  {
   "cell_type": "code",
   "execution_count": null,
   "id": "82a21b0d-c1b5-4ca8-b6ca-7cc823412db9",
   "metadata": {},
   "outputs": [],
   "source": []
  }
 ],
 "metadata": {
  "kernelspec": {
   "display_name": "Python 3 (ipykernel)",
   "language": "python",
   "name": "python3"
  },
  "language_info": {
   "codemirror_mode": {
    "name": "ipython",
    "version": 3
   },
   "file_extension": ".py",
   "mimetype": "text/x-python",
   "name": "python",
   "nbconvert_exporter": "python",
   "pygments_lexer": "ipython3",
   "version": "3.10.7"
  }
 },
 "nbformat": 4,
 "nbformat_minor": 5
}
