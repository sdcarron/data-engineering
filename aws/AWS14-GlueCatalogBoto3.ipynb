{
 "cells": [
  {
   "cell_type": "code",
   "execution_count": 3,
   "id": "5861cdad-216d-41eb-8ef1-4802f347e7f8",
   "metadata": {},
   "outputs": [
    {
     "data": {
      "text/plain": [
       "'us-east-1'"
      ]
     },
     "execution_count": 3,
     "metadata": {},
     "output_type": "execute_result"
    }
   ],
   "source": [
    "import boto3\n",
    "import os\n",
    "\n",
    "#Google \"AWS Boto3 list of environment variables\"\n",
    "os.environ.setdefault (\"AWS_PROFILE\",\"udemy-demo-awsprofile\")\n",
    "os.environ.setdefault (\"AWS_DEFAULT_REGION\",\"us-east-1\")"
   ]
  },
  {
   "cell_type": "code",
   "execution_count": 4,
   "id": "b2088629-0cf7-4b62-b26b-9cb09ac5e29f",
   "metadata": {},
   "outputs": [],
   "source": [
    "glueClient = boto3.client (\"glue\")"
   ]
  },
  {
   "cell_type": "code",
   "execution_count": 7,
   "id": "da826b85-a9bd-4362-800d-105a677f71c2",
   "metadata": {},
   "outputs": [
    {
     "data": {
      "text/plain": [
       "'udemy-retail-awsgluecrawler'"
      ]
     },
     "execution_count": 7,
     "metadata": {},
     "output_type": "execute_result"
    }
   ],
   "source": [
    "#glueClient.list_crawlers ()\n",
    "glueClient.list_crawlers ()[\"CrawlerNames\"][3]"
   ]
  },
  {
   "cell_type": "code",
   "execution_count": 15,
   "id": "96e48160-3a77-4aec-8806-310f403bae63",
   "metadata": {},
   "outputs": [
    {
     "name": "stdout",
     "output_type": "stream",
     "text": [
      "{'Crawler': {'Name': 'udemy-retail-awsgluecrawler', 'Role': 'service-role/AWSGlueServiceRole-retail-db-json', 'Targets': {'S3Targets': [{'Path': 's3://udemy-retail-awsbucket/retail_db_json/', 'Exclusions': []}], 'JdbcTargets': [], 'MongoDBTargets': [], 'DynamoDBTargets': [], 'CatalogTargets': [], 'DeltaTargets': [], 'IcebergTargets': [], 'HudiTargets': []}, 'DatabaseName': 'udemy-retail-awsgluedatabase', 'Classifiers': [], 'RecrawlPolicy': {'RecrawlBehavior': 'CRAWL_EVERYTHING'}, 'SchemaChangePolicy': {'UpdateBehavior': 'UPDATE_IN_DATABASE', 'DeleteBehavior': 'DEPRECATE_IN_DATABASE'}, 'LineageConfiguration': {'CrawlerLineageSettings': 'DISABLE'}, 'State': 'STOPPING', 'CrawlElapsedTime': 102000, 'CreationTime': datetime.datetime(2024, 4, 7, 3, 1, 57, tzinfo=tzlocal()), 'LastUpdated': datetime.datetime(2024, 4, 7, 3, 1, 57, tzinfo=tzlocal()), 'LastCrawl': {'Status': 'SUCCEEDED', 'LogGroup': '/aws-glue/crawlers', 'LogStream': 'udemy-retail-awsgluecrawler', 'MessagePrefix': '97cdded4-9705-4cf1-a2fb-1849f8c6af8d', 'StartTime': datetime.datetime(2024, 4, 10, 0, 23, 58, tzinfo=tzlocal())}, 'Version': 1, 'Configuration': '{\"Version\":1.0,\"CreatePartitionIndex\":true}', 'LakeFormationConfiguration': {'UseLakeFormationCredentials': False, 'AccountId': ''}}, 'ResponseMetadata': {'RequestId': 'ade37e47-a12a-4b53-8032-ba8cf09129b3', 'HTTPStatusCode': 200, 'HTTPHeaders': {'date': 'Wed, 17 Apr 2024 23:10:59 GMT', 'content-type': 'application/x-amz-json-1.1', 'content-length': '1131', 'connection': 'keep-alive', 'x-amzn-requestid': 'ade37e47-a12a-4b53-8032-ba8cf09129b3'}, 'RetryAttempts': 0}}\n"
     ]
    }
   ],
   "source": [
    "#help (glueClient.get_crawler)\n",
    "glueCrawler = glueClient.get_crawler (Name=glueClient.list_crawlers ()[\"CrawlerNames\"][3])\n",
    "print (glueCrawler)"
   ]
  },
  {
   "cell_type": "code",
   "execution_count": 13,
   "id": "4c5f0954-522d-4358-9989-89fa5acae3ef",
   "metadata": {},
   "outputs": [
    {
     "data": {
      "text/plain": [
       "{'ResponseMetadata': {'RequestId': '67d484fe-db42-4dcd-85a4-bb65f31cf69e',\n",
       "  'HTTPStatusCode': 200,\n",
       "  'HTTPHeaders': {'date': 'Wed, 17 Apr 2024 23:08:32 GMT',\n",
       "   'content-type': 'application/x-amz-json-1.1',\n",
       "   'content-length': '2',\n",
       "   'connection': 'keep-alive',\n",
       "   'x-amzn-requestid': '67d484fe-db42-4dcd-85a4-bb65f31cf69e'},\n",
       "  'RetryAttempts': 0}}"
      ]
     },
     "execution_count": 13,
     "metadata": {},
     "output_type": "execute_result"
    }
   ],
   "source": [
    "#help (glueClient.start_crawler)\n",
    "glueClient.start_crawler (Name=glueCrawler [\"Crawler\"][\"Name\"])"
   ]
  },
  {
   "cell_type": "code",
   "execution_count": 20,
   "id": "d69d1ddb-4179-4d73-a58b-4524242173a7",
   "metadata": {},
   "outputs": [
    {
     "name": "stdout",
     "output_type": "stream",
     "text": [
      "flight-crawl-db\n",
      "udemy-demo-awsdbglue\n",
      "udemy-retail-awsgluedatabase\n"
     ]
    }
   ],
   "source": [
    "#help (glueClient.get_databases)\n",
    "#glueClient.get_databases ()\n",
    "for db in glueClient.get_databases () [\"DatabaseList\"]:\n",
    "    print (db [\"Name\"])"
   ]
  },
  {
   "cell_type": "code",
   "execution_count": 27,
   "id": "442ac4ff-2608-4ad6-badc-7984e8daae6c",
   "metadata": {},
   "outputs": [
    {
     "name": "stdout",
     "output_type": "stream",
     "text": [
      "categories\n",
      "customers\n",
      "departments\n",
      "order_items\n",
      "orders\n",
      "products\n"
     ]
    }
   ],
   "source": [
    "#help (glueClient.get_tables)\n",
    "#glueClient.get_tables (DatabaseName=glueClient.get_databases ()[\"DatabaseList\"][2][\"Name\"])\n",
    "for table in glueClient.get_tables (DatabaseName=glueClient.get_databases ()[\"DatabaseList\"][2][\"Name\"]) [\"TableList\"]:\n",
    "    print (table [\"Name\"])"
   ]
  },
  {
   "cell_type": "code",
   "execution_count": 34,
   "id": "fe9fae72-65bb-44e9-970a-1cd5134ae65d",
   "metadata": {},
   "outputs": [
    {
     "data": {
      "text/plain": [
       "{'Table': {'Name': 'categories',\n",
       "  'DatabaseName': 'udemy-retail-awsgluedatabase',\n",
       "  'Owner': 'owner',\n",
       "  'CreateTime': datetime.datetime(2024, 4, 17, 18, 9, 52, tzinfo=tzlocal()),\n",
       "  'UpdateTime': datetime.datetime(2024, 4, 17, 18, 9, 52, tzinfo=tzlocal()),\n",
       "  'LastAccessTime': datetime.datetime(2024, 4, 17, 18, 9, 52, tzinfo=tzlocal()),\n",
       "  'Retention': 0,\n",
       "  'StorageDescriptor': {'Columns': [{'Name': 'category_id', 'Type': 'int'},\n",
       "    {'Name': 'category_department_id', 'Type': 'int'},\n",
       "    {'Name': 'category_name', 'Type': 'string'}],\n",
       "   'Location': 's3://udemy-retail-awsbucket/retail_db_json/categories/',\n",
       "   'InputFormat': 'org.apache.hadoop.mapred.TextInputFormat',\n",
       "   'OutputFormat': 'org.apache.hadoop.hive.ql.io.HiveIgnoreKeyTextOutputFormat',\n",
       "   'Compressed': False,\n",
       "   'NumberOfBuckets': -1,\n",
       "   'SerdeInfo': {'SerializationLibrary': 'org.openx.data.jsonserde.JsonSerDe',\n",
       "    'Parameters': {'paths': 'category_department_id,category_id,category_name'}},\n",
       "   'BucketColumns': [],\n",
       "   'SortColumns': [],\n",
       "   'Parameters': {'sizeKey': '4451',\n",
       "    'objectCount': '1',\n",
       "    'UPDATED_BY_CRAWLER': 'udemy-retail-awsgluecrawler',\n",
       "    'recordCount': '58',\n",
       "    'CrawlerSchemaSerializerVersion': '1.0',\n",
       "    'averageRecordSize': '76',\n",
       "    'compressionType': 'none',\n",
       "    'CrawlerSchemaDeserializerVersion': '1.0',\n",
       "    'classification': 'json',\n",
       "    'typeOfData': 'file'},\n",
       "   'StoredAsSubDirectories': False},\n",
       "  'PartitionKeys': [],\n",
       "  'TableType': 'EXTERNAL_TABLE',\n",
       "  'Parameters': {'sizeKey': '4451',\n",
       "   'objectCount': '1',\n",
       "   'UPDATED_BY_CRAWLER': 'udemy-retail-awsgluecrawler',\n",
       "   'recordCount': '58',\n",
       "   'CrawlerSchemaSerializerVersion': '1.0',\n",
       "   'averageRecordSize': '76',\n",
       "   'compressionType': 'none',\n",
       "   'CrawlerSchemaDeserializerVersion': '1.0',\n",
       "   'classification': 'json',\n",
       "   'typeOfData': 'file'},\n",
       "  'CreatedBy': 'arn:aws:sts::195130034135:assumed-role/AWSGlueServiceRole-retail-db-json/AWS-Crawler',\n",
       "  'IsRegisteredWithLakeFormation': False,\n",
       "  'CatalogId': '195130034135',\n",
       "  'VersionId': '0'},\n",
       " 'ResponseMetadata': {'RequestId': 'eddc694a-8c5e-440a-853d-cb575d5f80bf',\n",
       "  'HTTPStatusCode': 200,\n",
       "  'HTTPHeaders': {'date': 'Thu, 18 Apr 2024 00:51:16 GMT',\n",
       "   'content-type': 'application/x-amz-json-1.1',\n",
       "   'content-length': '1727',\n",
       "   'connection': 'keep-alive',\n",
       "   'x-amzn-requestid': 'eddc694a-8c5e-440a-853d-cb575d5f80bf'},\n",
       "  'RetryAttempts': 0}}"
      ]
     },
     "execution_count": 34,
     "metadata": {},
     "output_type": "execute_result"
    }
   ],
   "source": [
    "#help (glueClient.get_table)\n",
    "glueClient.get_table (DatabaseName=glueClient.get_databases () [\"DatabaseList\"][2][\"Name\"],Name=glueClient.get_tables (DatabaseName=glueClient.get_databases ()[\"DatabaseList\"][2][\"Name\"])[\"TableList\"][0][\"Name\"])"
   ]
  },
  {
   "cell_type": "code",
   "execution_count": null,
   "id": "4740ecb4-d939-4402-b6b4-f4b38e864560",
   "metadata": {},
   "outputs": [],
   "source": []
  }
 ],
 "metadata": {
  "kernelspec": {
   "display_name": "Python 3 (ipykernel)",
   "language": "python",
   "name": "python3"
  },
  "language_info": {
   "codemirror_mode": {
    "name": "ipython",
    "version": 3
   },
   "file_extension": ".py",
   "mimetype": "text/x-python",
   "name": "python",
   "nbconvert_exporter": "python",
   "pygments_lexer": "ipython3",
   "version": "3.10.7"
  }
 },
 "nbformat": 4,
 "nbformat_minor": 5
}
