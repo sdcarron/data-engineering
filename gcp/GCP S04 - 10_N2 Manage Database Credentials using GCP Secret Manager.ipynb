{
 "cells": [
  {
   "cell_type": "markdown",
   "metadata": {},
   "source": [
    "## Manage Database Credentials using GCP Secret Manager\n",
    "\n",
    "Here is the process involved to get secret details as part of the applications.\n",
    "* Create Secret Manager Client Object\n",
    "* Get Secret Details\n",
    "* Use Secret Details (to connect to Databases)"
   ]
  },
  {
   "cell_type": "code",
   "execution_count": 2,
   "metadata": {},
   "outputs": [],
   "source": [
    "from google.cloud import secretmanager"
   ]
  },
  {
   "cell_type": "code",
   "execution_count": 3,
   "metadata": {},
   "outputs": [],
   "source": [
    "client = secretmanager.SecretManagerServiceClient()"
   ]
  },
  {
   "cell_type": "code",
   "execution_count": null,
   "metadata": {},
   "outputs": [],
   "source": [
    "client.access_secret_version?"
   ]
  },
  {
   "cell_type": "code",
   "execution_count": 4,
   "metadata": {},
   "outputs": [],
   "source": [
    "'''\n",
    "project_id = 'tidy-fort-361710'\n",
    "secret_id = 'retailsecret'\n",
    "version_id = 1\n",
    "'''\n",
    "project_id = \"udemydataengineering\"\n",
    "secret_id = \"udemy-retail-gcpsecret\"\n",
    "version_id = 1"
   ]
  },
  {
   "cell_type": "code",
   "execution_count": 5,
   "metadata": {},
   "outputs": [],
   "source": [
    "secret_name = f'projects/{project_id}/secrets/{secret_id}/versions/{version_id}'"
   ]
  },
  {
   "cell_type": "code",
   "execution_count": 6,
   "metadata": {},
   "outputs": [
    {
     "data": {
      "text/plain": [
       "'projects/udemydataengineering/secrets/udemy-retail-gcpsecret/versions/1'"
      ]
     },
     "execution_count": 6,
     "metadata": {},
     "output_type": "execute_result"
    }
   ],
   "source": [
    "secret_name"
   ]
  },
  {
   "cell_type": "code",
   "execution_count": 8,
   "metadata": {},
   "outputs": [],
   "source": [
    "response = client.access_secret_version(name=secret_name)"
   ]
  },
  {
   "cell_type": "code",
   "execution_count": 9,
   "metadata": {},
   "outputs": [
    {
     "data": {
      "text/plain": [
       "google.cloud.secretmanager_v1.types.service.AccessSecretVersionResponse"
      ]
     },
     "execution_count": 9,
     "metadata": {},
     "output_type": "execute_result"
    }
   ],
   "source": [
    "type(response)"
   ]
  },
  {
   "cell_type": "code",
   "execution_count": 10,
   "metadata": {},
   "outputs": [
    {
     "data": {
      "text/plain": [
       "data: \"{\\\"host\\\":\\\"35.232.183.213\\\", \\\"database\\\":\\\"udemy_retail_db\\\", \\\"user\\\":\\\"udemy_retail_user\\\", \\\"password\\\": \\\"udemy-retail-dbpassword\\\"}\"\n",
       "data_crc32c: 2493074567"
      ]
     },
     "execution_count": 10,
     "metadata": {},
     "output_type": "execute_result"
    }
   ],
   "source": [
    "response.payload"
   ]
  },
  {
   "cell_type": "code",
   "execution_count": 11,
   "metadata": {},
   "outputs": [
    {
     "data": {
      "text/plain": [
       "b'{\"host\":\"35.232.183.213\", \"database\":\"udemy_retail_db\", \"user\":\"udemy_retail_user\", \"password\": \"udemy-retail-dbpassword\"}'"
      ]
     },
     "execution_count": 11,
     "metadata": {},
     "output_type": "execute_result"
    }
   ],
   "source": [
    "response.payload.data"
   ]
  },
  {
   "cell_type": "code",
   "execution_count": 12,
   "metadata": {},
   "outputs": [
    {
     "data": {
      "text/plain": [
       "'{\"host\":\"35.232.183.213\", \"database\":\"udemy_retail_db\", \"user\":\"udemy_retail_user\", \"password\": \"udemy-retail-dbpassword\"}'"
      ]
     },
     "execution_count": 12,
     "metadata": {},
     "output_type": "execute_result"
    }
   ],
   "source": [
    "response.payload.data.decode('utf-8')"
   ]
  },
  {
   "cell_type": "code",
   "execution_count": 13,
   "metadata": {},
   "outputs": [],
   "source": [
    "import json"
   ]
  },
  {
   "cell_type": "code",
   "execution_count": 14,
   "metadata": {},
   "outputs": [],
   "source": [
    "secret_details = json.loads(response.payload.data.decode('utf-8'))"
   ]
  },
  {
   "cell_type": "code",
   "execution_count": null,
   "metadata": {},
   "outputs": [],
   "source": [
    "secret_details.keys()"
   ]
  },
  {
   "cell_type": "code",
   "execution_count": null,
   "metadata": {},
   "outputs": [],
   "source": [
    "secret_details['user']"
   ]
  },
  {
   "cell_type": "code",
   "execution_count": null,
   "metadata": {},
   "outputs": [],
   "source": [
    "secret_details['password']"
   ]
  },
  {
   "cell_type": "code",
   "execution_count": null,
   "metadata": {},
   "outputs": [],
   "source": [
    "import json\n",
    "from google.cloud import secretmanager\n",
    "\n",
    "def get_secret_details(secret_name):\n",
    "    client = secretmanager.SecretManagerServiceClient()\n",
    "    response = client.access_secret_version(name=secret_name)\n",
    "    return json.loads(response.payload.data.decode('utf-8'))"
   ]
  },
  {
   "cell_type": "code",
   "execution_count": null,
   "metadata": {},
   "outputs": [],
   "source": [
    "project_id = 'tidy-fort-361710'\n",
    "secret_id = 'retailsecret'\n",
    "version_id = 1\n",
    "\n",
    "secret_name = f'projects/{project_id}/secrets/{secret_id}/versions/{version_id}'\n",
    "secret_details = get_secret_details(secret_name)"
   ]
  },
  {
   "cell_type": "code",
   "execution_count": null,
   "metadata": {},
   "outputs": [],
   "source": [
    "secret_details"
   ]
  },
  {
   "cell_type": "code",
   "execution_count": null,
   "metadata": {},
   "outputs": [],
   "source": [
    "conn_uri = 'postgresql://{user}:{password}@{host}:{port}/{database}'"
   ]
  },
  {
   "cell_type": "code",
   "execution_count": null,
   "metadata": {},
   "outputs": [],
   "source": [
    "conn_uri.format(port=5432, **secret_details)"
   ]
  },
  {
   "cell_type": "code",
   "execution_count": null,
   "metadata": {},
   "outputs": [],
   "source": [
    "import pandas as pd"
   ]
  },
  {
   "cell_type": "code",
   "execution_count": null,
   "metadata": {},
   "outputs": [],
   "source": [
    "df = pd.read_sql(\n",
    "    '''\n",
    "        SELECT order_status, sum(order_count) AS order_count FROM daily_status_count\n",
    "        GROUP BY 1\n",
    "        ORDER BY 2 DESC\n",
    "    ''',\n",
    "    conn_uri.format(port=5432, **secret_details)\n",
    ")"
   ]
  },
  {
   "cell_type": "code",
   "execution_count": null,
   "metadata": {},
   "outputs": [],
   "source": [
    "df"
   ]
  },
  {
   "cell_type": "code",
   "execution_count": null,
   "metadata": {},
   "outputs": [],
   "source": []
  }
 ],
 "metadata": {
  "kernelspec": {
   "display_name": "Python 3 (ipykernel)",
   "language": "python",
   "name": "python3"
  },
  "language_info": {
   "codemirror_mode": {
    "name": "ipython",
    "version": 3
   },
   "file_extension": ".py",
   "mimetype": "text/x-python",
   "name": "python",
   "nbconvert_exporter": "python",
   "pygments_lexer": "ipython3",
   "version": "3.10.7"
  },
  "vscode": {
   "interpreter": {
    "hash": "4a9d607f6995d470a72ac62c14cbba774ae3a8ede2bb7bb3a284130b245adccf"
   }
  }
 },
 "nbformat": 4,
 "nbformat_minor": 4
}
