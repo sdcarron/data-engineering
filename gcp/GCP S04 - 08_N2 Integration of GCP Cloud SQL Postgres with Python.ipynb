{
 "cells": [
  {
   "cell_type": "markdown",
   "metadata": {},
   "source": [
    "## Integration of GCP Cloud SQL Postgres with Python\n",
    "Let us also see how we can get started with Python based applications using Cloud SQL Postgres.\n",
    "* We need to setup `psycopg2-binary` using `pip`. You can use `pip install psycopg2-binary` to install Postgres Python Connector Library in the virtual environment of the project.\n",
    "* We can then create connection object.\n",
    "* Using connection object, we can create cursor object by passing relevant query to it.\n",
    "* We can process the data using cursor object.\n",
    "* We can perform `SELECT`, `INSERT`, `UPDATE`, `DELETE`, etc using this approach."
   ]
  },
  {
   "cell_type": "code",
   "execution_count": 1,
   "metadata": {},
   "outputs": [],
   "source": [
    "#!pip install psycopg2-binary"
   ]
  },
  {
   "cell_type": "code",
   "execution_count": 2,
   "metadata": {},
   "outputs": [],
   "source": [
    "import psycopg2"
   ]
  },
  {
   "cell_type": "code",
   "execution_count": 3,
   "metadata": {},
   "outputs": [
    {
     "name": "stdout",
     "output_type": "stream",
     "text": [
      "Trying 104.197.141.244...\n",
      "Connected to 244.141.197.104.bc.googleusercontent.com.\n",
      "Escape character is '^]'.\n",
      "^C\n",
      "Connection closed by foreign host.\n"
     ]
    }
   ],
   "source": [
    "!telnet 104.197.141.244 5432"
   ]
  },
  {
   "cell_type": "code",
   "execution_count": 4,
   "metadata": {},
   "outputs": [],
   "source": [
    "'''\n",
    "conn = psycopg2.connect(\n",
    "    host='104.197.141.244',\n",
    "    port=5432,\n",
    "    database='itversity_retail_db',\n",
    "    user='itversity_retail_user',\n",
    "    password='itversity'\n",
    ")\n",
    "'''\n",
    "conn = psycopg2.connect (host=\"35.232.183.213\", port=5432, database=\"udemy_retail_db\", user=\"udemy_retail_user\", password=\"udemy-retail-dbpassword\")"
   ]
  },
  {
   "cell_type": "code",
   "execution_count": 5,
   "metadata": {},
   "outputs": [],
   "source": [
    "cur = conn.cursor()"
   ]
  },
  {
   "cell_type": "code",
   "execution_count": 9,
   "metadata": {},
   "outputs": [],
   "source": [
    "cur.execute('SELECT * FROM orders LIMIT 10')"
   ]
  },
  {
   "cell_type": "code",
   "execution_count": 10,
   "metadata": {},
   "outputs": [
    {
     "data": {
      "text/plain": [
       "[(1, datetime.datetime(2013, 7, 25, 0, 0), 11599, 'CLOSED'),\n",
       " (2, datetime.datetime(2013, 7, 25, 0, 0), 256, 'PENDING_PAYMENT'),\n",
       " (3, datetime.datetime(2013, 7, 25, 0, 0), 12111, 'COMPLETE'),\n",
       " (4, datetime.datetime(2013, 7, 25, 0, 0), 8827, 'CLOSED'),\n",
       " (5, datetime.datetime(2013, 7, 25, 0, 0), 11318, 'COMPLETE'),\n",
       " (6, datetime.datetime(2013, 7, 25, 0, 0), 7130, 'COMPLETE'),\n",
       " (7, datetime.datetime(2013, 7, 25, 0, 0), 4530, 'COMPLETE'),\n",
       " (8, datetime.datetime(2013, 7, 25, 0, 0), 2911, 'PROCESSING'),\n",
       " (9, datetime.datetime(2013, 7, 25, 0, 0), 5657, 'PENDING_PAYMENT'),\n",
       " (10, datetime.datetime(2013, 7, 25, 0, 0), 5648, 'PENDING_PAYMENT')]"
      ]
     },
     "execution_count": 10,
     "metadata": {},
     "output_type": "execute_result"
    }
   ],
   "source": [
    "cur.fetchall()"
   ]
  },
  {
   "cell_type": "code",
   "execution_count": 11,
   "metadata": {},
   "outputs": [],
   "source": [
    "cur.execute('''\n",
    "    SELECT order_status,\n",
    "        count(*) AS order_count\n",
    "    FROM orders\n",
    "    GROUP BY 1\n",
    "    ORDER BY 2 DESC\n",
    "''')"
   ]
  },
  {
   "cell_type": "code",
   "execution_count": 12,
   "metadata": {},
   "outputs": [
    {
     "data": {
      "text/plain": [
       "[('COMPLETE', 22899),\n",
       " ('PENDING_PAYMENT', 15030),\n",
       " ('PROCESSING', 8275),\n",
       " ('PENDING', 7610),\n",
       " ('CLOSED', 7556),\n",
       " ('ON_HOLD', 3798),\n",
       " ('SUSPECTED_FRAUD', 1558),\n",
       " ('CANCELED', 1428),\n",
       " ('PAYMENT_REVIEW', 729)]"
      ]
     },
     "execution_count": 12,
     "metadata": {},
     "output_type": "execute_result"
    }
   ],
   "source": [
    "cur.fetchall()"
   ]
  },
  {
   "cell_type": "code",
   "execution_count": null,
   "metadata": {},
   "outputs": [],
   "source": []
  }
 ],
 "metadata": {
  "kernelspec": {
   "display_name": "Python 3 (ipykernel)",
   "language": "python",
   "name": "python3"
  },
  "language_info": {
   "codemirror_mode": {
    "name": "ipython",
    "version": 3
   },
   "file_extension": ".py",
   "mimetype": "text/x-python",
   "name": "python",
   "nbconvert_exporter": "python",
   "pygments_lexer": "ipython3",
   "version": "3.10.7"
  },
  "vscode": {
   "interpreter": {
    "hash": "4a9d607f6995d470a72ac62c14cbba774ae3a8ede2bb7bb3a284130b245adccf"
   }
  }
 },
 "nbformat": 4,
 "nbformat_minor": 4
}
