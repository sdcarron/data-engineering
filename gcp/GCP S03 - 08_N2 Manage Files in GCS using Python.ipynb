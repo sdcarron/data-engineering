{
 "cells": [
  {
   "cell_type": "code",
   "execution_count": 1,
   "metadata": {},
   "outputs": [
    {
     "name": "stderr",
     "output_type": "stream",
     "text": [
      "Creating gs://udemy-github-gcpbucket2/...\n"
     ]
    }
   ],
   "source": [
    "#!gsutil mb gs://airetail\n",
    "!gsutil mb gs://udemy-github-gcpbucket2"
   ]
  },
  {
   "cell_type": "code",
   "execution_count": 4,
   "metadata": {},
   "outputs": [
    {
     "name": "stderr",
     "output_type": "stream",
     "text": [
      "Copying file://C:\\Users\\User\\Desktop\\ComputerScience\\Udemy\\DataEngineering\\data-engineering-on-gcp\\data\\retail_db\\create_db_tables_pg.sql [Content-Type=application/octet-stream]...\n",
      "/ [0 files][    0.0 B/  1.7 KiB]                                                \n",
      "/ [1 files][  1.7 KiB/  1.7 KiB]                                                \n",
      "-\n",
      "Copying file://C:\\Users\\User\\Desktop\\ComputerScience\\Udemy\\DataEngineering\\data-engineering-on-gcp\\data\\retail_db\\load_db_tables_pg.sql [Content-Type=application/octet-stream]...\n",
      "- [1 files][  1.7 KiB/  9.8 MiB]                                                \n",
      "- [1 files][321.7 KiB/  9.8 MiB]                                                \n",
      "\\\n",
      "|\n",
      "| [1 files][961.7 KiB/  9.8 MiB]                                                \n",
      "/\n",
      "-\n",
      "- [1 files][  1.6 MiB/  9.8 MiB]                                                \n",
      "\\\n",
      "|\n",
      "| [1 files][  2.2 MiB/  9.8 MiB]                                                \n",
      "/\n",
      "-\n",
      "- [1 files][  2.8 MiB/  9.8 MiB]                                                \n",
      "\\\n",
      "|\n",
      "| [1 files][  3.4 MiB/  9.8 MiB]                                                \n",
      "/\n",
      "-\n",
      "- [1 files][  4.1 MiB/  9.8 MiB]                                                \n",
      "\\\n",
      "|\n",
      "| [1 files][  4.7 MiB/  9.8 MiB]  453.0 KiB/s                                   \n",
      "/\n",
      "-\n",
      "- [1 files][  5.3 MiB/  9.8 MiB]  456.6 KiB/s                                   \n",
      "\\\n",
      "|\n",
      "| [1 files][  5.9 MiB/  9.8 MiB]  456.6 KiB/s                                   \n",
      "/\n",
      "-\n",
      "- [1 files][  6.6 MiB/  9.8 MiB]  457.2 KiB/s                                   \n",
      "\\\n",
      "|\n",
      "| [1 files][  7.2 MiB/  9.8 MiB]  456.4 KiB/s                                   \n",
      "/\n",
      "-\n",
      "- [1 files][  7.8 MiB/  9.8 MiB]  457.2 KiB/s                                   \n",
      "\\\n",
      "|\n",
      "| [1 files][  8.4 MiB/  9.8 MiB]  456.4 KiB/s                                   \n",
      "/\n",
      "-\n",
      "- [1 files][  9.1 MiB/  9.8 MiB]  456.1 KiB/s                                   \n",
      "\\\n",
      "|\n",
      "| [1 files][  9.7 MiB/  9.8 MiB]  454.4 KiB/s                                   \n",
      "/\n",
      "/ [2 files][  9.8 MiB/  9.8 MiB]  416.9 KiB/s                                   \n",
      "-\n",
      "Copying file://C:\\Users\\User\\Desktop\\ComputerScience\\Udemy\\DataEngineering\\data-engineering-on-gcp\\data\\retail_db\\schemas.json [Content-Type=application/json]...\n",
      "- [2 files][  9.8 MiB/  9.8 MiB]  416.9 KiB/s                                   \n",
      "- [3 files][  9.8 MiB/  9.8 MiB]  354.0 KiB/s                                   \n",
      "\\\n",
      "Copying file://C:\\Users\\User\\Desktop\\ComputerScience\\Udemy\\DataEngineering\\data-engineering-on-gcp\\data\\retail_db\\categories\\part-00000 [Content-Type=application/octet-stream]...\n",
      "\\ [3 files][  9.8 MiB/  9.8 MiB]  354.0 KiB/s                                   \n",
      "\\ [4 files][  9.8 MiB/  9.8 MiB]  235.0 KiB/s                                   \n",
      "|\n",
      "\n",
      "==> NOTE: You are performing a sequence of gsutil operations that may\n",
      "run significantly faster if you instead use gsutil -m cp ... Please\n",
      "see the -m section under \"gsutil help options\" for further information\n",
      "about when gsutil -m can be advantageous.\n",
      "\n",
      "Copying file://C:\\Users\\User\\Desktop\\ComputerScience\\Udemy\\DataEngineering\\data-engineering-on-gcp\\data\\retail_db\\customers\\part-00000 [Content-Type=application/octet-stream]...\n",
      "| [4 files][  9.8 MiB/ 10.7 MiB]  235.0 KiB/s                                   \n",
      "| [4 files][ 10.1 MiB/ 10.7 MiB]  177.1 KiB/s                                   \n",
      "/\n",
      "-\n",
      "- [4 files][ 10.7 MiB/ 10.7 MiB]  192.2 KiB/s                                   \n",
      "\\\n",
      "\\ [5 files][ 10.7 MiB/ 10.7 MiB]  192.7 KiB/s                                   \n",
      "Copying file://C:\\Users\\User\\Desktop\\ComputerScience\\Udemy\\DataEngineering\\data-engineering-on-gcp\\data\\retail_db\\departments\\part-00000 [Content-Type=application/octet-stream]...\n",
      "\\ [5 files][ 10.7 MiB/ 10.7 MiB]  192.7 KiB/s                                   \n",
      "|\n",
      "| [6 files][ 10.7 MiB/ 10.7 MiB]  191.8 KiB/s                                   \n",
      "Copying file://C:\\Users\\User\\Desktop\\ComputerScience\\Udemy\\DataEngineering\\data-engineering-on-gcp\\data\\retail_db\\orders\\part-00000 [Content-Type=application/octet-stream]...\n",
      "| [6 files][ 10.7 MiB/ 13.6 MiB]  191.8 KiB/s                                   \n",
      "| [6 files][ 11.0 MiB/ 13.6 MiB]  256.4 KiB/s                                   \n",
      "/\n",
      "-\n",
      "- [6 files][ 11.7 MiB/ 13.6 MiB]  287.3 KiB/s                                   \n",
      "\\\n",
      "|\n",
      "| [6 files][ 12.3 MiB/ 13.6 MiB]  340.9 KiB/s                                   \n",
      "/\n",
      "-\n",
      "- [6 files][ 12.9 MiB/ 13.6 MiB]  454.6 KiB/s                                   \n",
      "\\\n",
      "|\n",
      "| [6 files][ 13.6 MiB/ 13.6 MiB]  454.6 KiB/s                                   \n",
      "/\n",
      "/ [7 files][ 13.6 MiB/ 13.6 MiB]  415.8 KiB/s                                   \n",
      "Copying file://C:\\Users\\User\\Desktop\\ComputerScience\\Udemy\\DataEngineering\\data-engineering-on-gcp\\data\\retail_db\\order_items\\part-00000 [Content-Type=application/octet-stream]...\n",
      "/ [7 files][ 13.6 MiB/ 18.8 MiB]  415.8 KiB/s                                   \n",
      "/ [7 files][ 13.9 MiB/ 18.8 MiB]  362.8 KiB/s                                   \n",
      "-\n",
      "\\\n",
      "\\ [7 files][ 14.5 MiB/ 18.8 MiB]  363.6 KiB/s                                   \n",
      "|\n",
      "/\n",
      "/ [7 files][ 15.2 MiB/ 18.8 MiB]  364.0 KiB/s                                   \n",
      "-\n",
      "\\\n",
      "\\ [7 files][ 15.8 MiB/ 18.8 MiB]  456.1 KiB/s                                   \n",
      "|\n",
      "/\n",
      "/ [7 files][ 16.4 MiB/ 18.8 MiB]  456.0 KiB/s                                   \n",
      "-\n",
      "\\\n",
      "\\ [7 files][ 17.0 MiB/ 18.8 MiB]  455.7 KiB/s                                   \n",
      "|\n",
      "/\n",
      "/ [7 files][ 17.7 MiB/ 18.8 MiB]  455.3 KiB/s                                   \n",
      "-\n",
      "\\\n",
      "\\ [7 files][ 18.3 MiB/ 18.8 MiB]  455.1 KiB/s                                   \n",
      "|\n",
      "/\n",
      "/ [7 files][ 18.8 MiB/ 18.8 MiB]  449.8 KiB/s                                   \n",
      "/ [8 files][ 18.8 MiB/ 18.8 MiB]  416.6 KiB/s                                   \n",
      "-\n",
      "Copying file://C:\\Users\\User\\Desktop\\ComputerScience\\Udemy\\DataEngineering\\data-engineering-on-gcp\\data\\retail_db\\products\\part-00000 [Content-Type=application/octet-stream]...\n",
      "- [8 files][ 18.8 MiB/ 18.9 MiB]  410.1 KiB/s                                   \n",
      "\\\n",
      "\\ [9 files][ 18.9 MiB/ 18.9 MiB]  333.5 KiB/s                                   \n",
      "\n",
      "Operation completed over 9 objects/18.9 MiB.                                     \n"
     ]
    }
   ],
   "source": [
    "#!gsutil cp -r ../../data/retail_db gs://airetail/retail_db\n",
    "!gsutil cp -r C:\\Users\\User\\Desktop\\ComputerScience\\Udemy\\DataEngineering\\data-engineering-on-gcp\\data\\retail_db gs://udemy-github-gcpbucket2/data/retail_db"
   ]
  },
  {
   "cell_type": "code",
   "execution_count": 5,
   "metadata": {},
   "outputs": [
    {
     "name": "stdout",
     "output_type": "stream",
     "text": [
      "gs://udemy-github-gcpbucket2/data/:\n",
      "\n",
      "gs://udemy-github-gcpbucket2/data/retail_db/:\n",
      "gs://udemy-github-gcpbucket2/data/retail_db/create_db_tables_pg.sql\n",
      "gs://udemy-github-gcpbucket2/data/retail_db/load_db_tables_pg.sql\n",
      "gs://udemy-github-gcpbucket2/data/retail_db/schemas.json\n",
      "\n",
      "gs://udemy-github-gcpbucket2/data/retail_db/categories/:\n",
      "gs://udemy-github-gcpbucket2/data/retail_db/categories/part-00000\n",
      "\n",
      "gs://udemy-github-gcpbucket2/data/retail_db/customers/:\n",
      "gs://udemy-github-gcpbucket2/data/retail_db/customers/part-00000\n",
      "\n",
      "gs://udemy-github-gcpbucket2/data/retail_db/departments/:\n",
      "gs://udemy-github-gcpbucket2/data/retail_db/departments/part-00000\n",
      "\n",
      "gs://udemy-github-gcpbucket2/data/retail_db/order_items/:\n",
      "gs://udemy-github-gcpbucket2/data/retail_db/order_items/part-00000\n",
      "\n",
      "gs://udemy-github-gcpbucket2/data/retail_db/orders/:\n",
      "gs://udemy-github-gcpbucket2/data/retail_db/orders/part-00000\n",
      "\n",
      "gs://udemy-github-gcpbucket2/data/retail_db/products/:\n",
      "gs://udemy-github-gcpbucket2/data/retail_db/products/part-00000\n"
     ]
    }
   ],
   "source": [
    "#!gsutil ls -r gs://airetail/\n",
    "!gsutil ls -r gs://udemy-github-gcpbucket2/"
   ]
  },
  {
   "cell_type": "code",
   "execution_count": 1,
   "metadata": {},
   "outputs": [],
   "source": [
    "from google.cloud import storage"
   ]
  },
  {
   "cell_type": "markdown",
   "metadata": {},
   "source": [
    "In case if the below code fail with authentication error, make sure to create credentials explicitly by running `gcloud auth application-default login` using Terminal."
   ]
  },
  {
   "cell_type": "code",
   "execution_count": 2,
   "metadata": {},
   "outputs": [],
   "source": [
    "gsclient = storage.Client()"
   ]
  },
  {
   "cell_type": "code",
   "execution_count": 9,
   "metadata": {},
   "outputs": [
    {
     "data": {
      "text/plain": [
       "<google.cloud.storage.client.Client at 0x203cb7f0e80>"
      ]
     },
     "execution_count": 9,
     "metadata": {},
     "output_type": "execute_result"
    }
   ],
   "source": [
    "gsclient\n",
    "#print (type (gsclient))"
   ]
  },
  {
   "cell_type": "code",
   "execution_count": 10,
   "metadata": {},
   "outputs": [
    {
     "name": "stdout",
     "output_type": "stream",
     "text": [
      "Help on method list_buckets in module google.cloud.storage.client:\n",
      "\n",
      "list_buckets(max_results=None, page_token=None, prefix=None, projection='noAcl', fields=None, project=None, page_size=None, timeout=60, retry=<google.api_core.retry.retry_unary.Retry object at 0x00000203CB5F2F20>) method of google.cloud.storage.client.Client instance\n",
      "    Get all buckets in the project associated to the client.\n",
      "    \n",
      "    This will not populate the list of blobs available in each\n",
      "    bucket.\n",
      "    \n",
      "    See [API reference docs](https://cloud.google.com/storage/docs/json_api/v1/buckets/list) and a [code sample](https://cloud.google.com/storage/docs/samples/storage-list-buckets#storage_list_buckets-python).\n",
      "    \n",
      "    :type max_results: int\n",
      "    :param max_results: (Optional) The maximum number of buckets to return.\n",
      "    \n",
      "    :type page_token: str\n",
      "    :param page_token:\n",
      "        (Optional) If present, return the next batch of buckets, using the\n",
      "        value, which must correspond to the ``nextPageToken`` value\n",
      "        returned in the previous response.  Deprecated: use the ``pages``\n",
      "        property of the returned iterator instead of manually passing the\n",
      "        token.\n",
      "    \n",
      "    :type prefix: str\n",
      "    :param prefix: (Optional) Filter results to buckets whose names begin\n",
      "                   with this prefix.\n",
      "    \n",
      "    :type projection: str\n",
      "    :param projection:\n",
      "        (Optional) Specifies the set of properties to return. If used, must\n",
      "        be 'full' or 'noAcl'. Defaults to 'noAcl'.\n",
      "    \n",
      "    :type fields: str\n",
      "    :param fields:\n",
      "        (Optional) Selector specifying which fields to include in a partial\n",
      "        response. Must be a list of fields. For example to get a partial\n",
      "        response with just the next page token and the language of each\n",
      "        bucket returned: 'items/id,nextPageToken'\n",
      "    \n",
      "    :type project: str\n",
      "    :param project: (Optional) The project whose buckets are to be listed.\n",
      "                    If not passed, uses the project set on the client.\n",
      "    \n",
      "    :type page_size: int\n",
      "    :param page_size: (Optional) Maximum number of buckets to return in each page.\n",
      "        Defaults to a value set by the API.\n",
      "    \n",
      "    :type timeout: float or tuple\n",
      "    :param timeout:\n",
      "        (Optional) The amount of time, in seconds, to wait\n",
      "        for the server response.  See: :ref:`configuring_timeouts`\n",
      "    \n",
      "    :type retry: google.api_core.retry.Retry or google.cloud.storage.retry.ConditionalRetryPolicy\n",
      "    :param retry:\n",
      "        (Optional) How to retry the RPC. See: :ref:`configuring_retries`\n",
      "    \n",
      "    :rtype: :class:`~google.api_core.page_iterator.Iterator`\n",
      "    :raises ValueError: if both ``project`` is ``None`` and the client's\n",
      "                        project is also ``None``.\n",
      "    :returns: Iterator of all :class:`~google.cloud.storage.bucket.Bucket`\n",
      "              belonging to this project.\n",
      "\n"
     ]
    }
   ],
   "source": [
    "help(gsclient.list_buckets)"
   ]
  },
  {
   "cell_type": "code",
   "execution_count": 11,
   "metadata": {},
   "outputs": [
    {
     "data": {
      "text/plain": [
       "<google.api_core.page_iterator.HTTPIterator at 0x203caf72e60>"
      ]
     },
     "execution_count": 11,
     "metadata": {},
     "output_type": "execute_result"
    }
   ],
   "source": [
    "gsclient.list_buckets()"
   ]
  },
  {
   "cell_type": "code",
   "execution_count": 12,
   "metadata": {},
   "outputs": [
    {
     "data": {
      "text/plain": [
       "[<Bucket: udemy-github-gcpbucket2>, <Bucket: udemy-github-gsbucket>]"
      ]
     },
     "execution_count": 12,
     "metadata": {},
     "output_type": "execute_result"
    }
   ],
   "source": [
    "list(gsclient.list_buckets())"
   ]
  },
  {
   "cell_type": "code",
   "execution_count": 13,
   "metadata": {},
   "outputs": [],
   "source": [
    "bucket = list(gsclient.list_buckets())[0]"
   ]
  },
  {
   "cell_type": "code",
   "execution_count": 14,
   "metadata": {},
   "outputs": [
    {
     "data": {
      "text/plain": [
       "<Bucket: udemy-github-gcpbucket2>"
      ]
     },
     "execution_count": 14,
     "metadata": {},
     "output_type": "execute_result"
    }
   ],
   "source": [
    "bucket"
   ]
  },
  {
   "cell_type": "code",
   "execution_count": 15,
   "metadata": {},
   "outputs": [
    {
     "data": {
      "text/plain": [
       "google.cloud.storage.bucket.Bucket"
      ]
     },
     "execution_count": 15,
     "metadata": {},
     "output_type": "execute_result"
    }
   ],
   "source": [
    "type(bucket)"
   ]
  },
  {
   "cell_type": "code",
   "execution_count": 16,
   "metadata": {},
   "outputs": [
    {
     "data": {
      "text/plain": [
       "'udemy-github-gcpbucket2'"
      ]
     },
     "execution_count": 16,
     "metadata": {},
     "output_type": "execute_result"
    }
   ],
   "source": [
    "bucket.name"
   ]
  },
  {
   "cell_type": "code",
   "execution_count": null,
   "metadata": {},
   "outputs": [],
   "source": [
    "help(gsclient.get_bucket)"
   ]
  },
  {
   "cell_type": "code",
   "execution_count": 17,
   "metadata": {},
   "outputs": [
    {
     "data": {
      "text/plain": [
       "<Bucket: udemy-github-gcpbucket2>"
      ]
     },
     "execution_count": 17,
     "metadata": {},
     "output_type": "execute_result"
    }
   ],
   "source": [
    "#gsclient.get_bucket('airetail')\n",
    "gsclient.get_bucket (\"udemy-github-gcpbucket2\")"
   ]
  },
  {
   "cell_type": "code",
   "execution_count": 18,
   "metadata": {},
   "outputs": [
    {
     "data": {
      "text/plain": [
       "<google.api_core.page_iterator.HTTPIterator at 0x203cb7f3d00>"
      ]
     },
     "execution_count": 18,
     "metadata": {},
     "output_type": "execute_result"
    }
   ],
   "source": [
    "#gsclient.list_blobs('airetail')\n",
    "gsclient.list_blobs (\"udemy-github-gcpbucket2\")"
   ]
  },
  {
   "cell_type": "code",
   "execution_count": 20,
   "metadata": {},
   "outputs": [
    {
     "data": {
      "text/plain": [
       "[<Blob: udemy-github-gcpbucket2, data/retail_db/categories/part-00000, 1709172201225120>,\n",
       " <Blob: udemy-github-gcpbucket2, data/retail_db/create_db_tables_pg.sql, 1709172176070366>,\n",
       " <Blob: udemy-github-gcpbucket2, data/retail_db/customers/part-00000, 1709172204224841>,\n",
       " <Blob: udemy-github-gcpbucket2, data/retail_db/departments/part-00000, 1709172204911147>,\n",
       " <Blob: udemy-github-gcpbucket2, data/retail_db/load_db_tables_pg.sql, 1709172199359800>,\n",
       " <Blob: udemy-github-gcpbucket2, data/retail_db/order_items/part-00000, 1709172224780986>,\n",
       " <Blob: udemy-github-gcpbucket2, data/retail_db/orders/part-00000, 1709172212249094>,\n",
       " <Blob: udemy-github-gcpbucket2, data/retail_db/products/part-00000, 1709172226022942>,\n",
       " <Blob: udemy-github-gcpbucket2, data/retail_db/schemas.json, 1709172200047436>]"
      ]
     },
     "execution_count": 20,
     "metadata": {},
     "output_type": "execute_result"
    }
   ],
   "source": [
    "#list(gsclient.list_blobs('airetail'))\n",
    "list (gsclient.list_blobs (\"udemy-github-gcpbucket2\"))"
   ]
  },
  {
   "cell_type": "code",
   "execution_count": 21,
   "metadata": {},
   "outputs": [],
   "source": [
    "#blob = list(gsclient.list_blobs('airetail'))[0]\n",
    "blob = list (gsclient.list_blobs (\"udemy-github-gcpbucket2\")) [0]"
   ]
  },
  {
   "cell_type": "code",
   "execution_count": 22,
   "metadata": {},
   "outputs": [
    {
     "data": {
      "text/plain": [
       "google.cloud.storage.blob.Blob"
      ]
     },
     "execution_count": 22,
     "metadata": {},
     "output_type": "execute_result"
    }
   ],
   "source": [
    "type(blob)"
   ]
  },
  {
   "cell_type": "code",
   "execution_count": 23,
   "metadata": {},
   "outputs": [],
   "source": [
    "#bucket = gsclient.get_bucket('airetail')\n",
    "bucket = gsclient.get_bucket (\"udemy-github-gcpbucket2\")"
   ]
  },
  {
   "cell_type": "code",
   "execution_count": 24,
   "metadata": {},
   "outputs": [
    {
     "data": {
      "text/plain": [
       "\u001b[1;31mSignature:\u001b[0m\n",
       "\u001b[0mbucket\u001b[0m\u001b[1;33m.\u001b[0m\u001b[0mblob\u001b[0m\u001b[1;33m(\u001b[0m\u001b[1;33m\n",
       "\u001b[0m    \u001b[0mblob_name\u001b[0m\u001b[1;33m,\u001b[0m\u001b[1;33m\n",
       "\u001b[0m    \u001b[0mchunk_size\u001b[0m\u001b[1;33m=\u001b[0m\u001b[1;32mNone\u001b[0m\u001b[1;33m,\u001b[0m\u001b[1;33m\n",
       "\u001b[0m    \u001b[0mencryption_key\u001b[0m\u001b[1;33m=\u001b[0m\u001b[1;32mNone\u001b[0m\u001b[1;33m,\u001b[0m\u001b[1;33m\n",
       "\u001b[0m    \u001b[0mkms_key_name\u001b[0m\u001b[1;33m=\u001b[0m\u001b[1;32mNone\u001b[0m\u001b[1;33m,\u001b[0m\u001b[1;33m\n",
       "\u001b[0m    \u001b[0mgeneration\u001b[0m\u001b[1;33m=\u001b[0m\u001b[1;32mNone\u001b[0m\u001b[1;33m,\u001b[0m\u001b[1;33m\n",
       "\u001b[0m\u001b[1;33m)\u001b[0m\u001b[1;33m\u001b[0m\u001b[1;33m\u001b[0m\u001b[0m\n",
       "\u001b[1;31mDocstring:\u001b[0m\n",
       "Factory constructor for blob object.\n",
       "\n",
       ".. note::\n",
       "  This will not make an HTTP request; it simply instantiates\n",
       "  a blob object owned by this bucket.\n",
       "\n",
       ":type blob_name: str\n",
       ":param blob_name: The name of the blob to be instantiated.\n",
       "\n",
       ":type chunk_size: int\n",
       ":param chunk_size: The size of a chunk of data whenever iterating\n",
       "                   (in bytes). This must be a multiple of 256 KB per\n",
       "                   the API specification.\n",
       "\n",
       ":type encryption_key: bytes\n",
       ":param encryption_key:\n",
       "    (Optional) 32 byte encryption key for customer-supplied encryption.\n",
       "\n",
       ":type kms_key_name: str\n",
       ":param kms_key_name:\n",
       "    (Optional) Resource name of KMS key used to encrypt blob's content.\n",
       "\n",
       ":type generation: long\n",
       ":param generation: (Optional) If present, selects a specific revision of\n",
       "                   this object.\n",
       "\n",
       ":rtype: :class:`google.cloud.storage.blob.Blob`\n",
       ":returns: The blob object created.\n",
       "\u001b[1;31mFile:\u001b[0m      c:\\users\\user\\desktop\\computerscience\\udemy\\dataengineering\\environment\\lib\\site-packages\\google\\cloud\\storage\\bucket.py\n",
       "\u001b[1;31mType:\u001b[0m      method"
      ]
     },
     "metadata": {},
     "output_type": "display_data"
    }
   ],
   "source": [
    "bucket.blob?"
   ]
  },
  {
   "cell_type": "code",
   "execution_count": 25,
   "metadata": {},
   "outputs": [],
   "source": [
    "#blob = bucket.blob('pythondemo/retail_db/orders/part-00000')\n",
    "blob = bucket.blob (\"data2/retail_db/orders/part-00001\")"
   ]
  },
  {
   "cell_type": "code",
   "execution_count": 26,
   "metadata": {},
   "outputs": [
    {
     "name": "stderr",
     "output_type": "stream",
     "text": [
      "CommandException: One or more URLs matched no objects.\n"
     ]
    }
   ],
   "source": [
    "#!gsutil ls gs://airetail/pythondemo\n",
    "!gsutil ls gs://udemy-github-gcpbucket2/data2"
   ]
  },
  {
   "cell_type": "code",
   "execution_count": 27,
   "metadata": {},
   "outputs": [
    {
     "data": {
      "text/plain": [
       "\u001b[1;31mSignature:\u001b[0m\n",
       "\u001b[0mblob\u001b[0m\u001b[1;33m.\u001b[0m\u001b[0mupload_from_filename\u001b[0m\u001b[1;33m(\u001b[0m\u001b[1;33m\n",
       "\u001b[0m    \u001b[0mfilename\u001b[0m\u001b[1;33m,\u001b[0m\u001b[1;33m\n",
       "\u001b[0m    \u001b[0mcontent_type\u001b[0m\u001b[1;33m=\u001b[0m\u001b[1;32mNone\u001b[0m\u001b[1;33m,\u001b[0m\u001b[1;33m\n",
       "\u001b[0m    \u001b[0mnum_retries\u001b[0m\u001b[1;33m=\u001b[0m\u001b[1;32mNone\u001b[0m\u001b[1;33m,\u001b[0m\u001b[1;33m\n",
       "\u001b[0m    \u001b[0mclient\u001b[0m\u001b[1;33m=\u001b[0m\u001b[1;32mNone\u001b[0m\u001b[1;33m,\u001b[0m\u001b[1;33m\n",
       "\u001b[0m    \u001b[0mpredefined_acl\u001b[0m\u001b[1;33m=\u001b[0m\u001b[1;32mNone\u001b[0m\u001b[1;33m,\u001b[0m\u001b[1;33m\n",
       "\u001b[0m    \u001b[0mif_generation_match\u001b[0m\u001b[1;33m=\u001b[0m\u001b[1;32mNone\u001b[0m\u001b[1;33m,\u001b[0m\u001b[1;33m\n",
       "\u001b[0m    \u001b[0mif_generation_not_match\u001b[0m\u001b[1;33m=\u001b[0m\u001b[1;32mNone\u001b[0m\u001b[1;33m,\u001b[0m\u001b[1;33m\n",
       "\u001b[0m    \u001b[0mif_metageneration_match\u001b[0m\u001b[1;33m=\u001b[0m\u001b[1;32mNone\u001b[0m\u001b[1;33m,\u001b[0m\u001b[1;33m\n",
       "\u001b[0m    \u001b[0mif_metageneration_not_match\u001b[0m\u001b[1;33m=\u001b[0m\u001b[1;32mNone\u001b[0m\u001b[1;33m,\u001b[0m\u001b[1;33m\n",
       "\u001b[0m    \u001b[0mtimeout\u001b[0m\u001b[1;33m=\u001b[0m\u001b[1;36m60\u001b[0m\u001b[1;33m,\u001b[0m\u001b[1;33m\n",
       "\u001b[0m    \u001b[0mchecksum\u001b[0m\u001b[1;33m=\u001b[0m\u001b[1;32mNone\u001b[0m\u001b[1;33m,\u001b[0m\u001b[1;33m\n",
       "\u001b[0m    \u001b[0mretry\u001b[0m\u001b[1;33m=\u001b[0m\u001b[1;33m<\u001b[0m\u001b[0mgoogle\u001b[0m\u001b[1;33m.\u001b[0m\u001b[0mcloud\u001b[0m\u001b[1;33m.\u001b[0m\u001b[0mstorage\u001b[0m\u001b[1;33m.\u001b[0m\u001b[0mretry\u001b[0m\u001b[1;33m.\u001b[0m\u001b[0mConditionalRetryPolicy\u001b[0m \u001b[0mobject\u001b[0m \u001b[0mat\u001b[0m \u001b[1;36m0x00000203CB5F2F80\u001b[0m\u001b[1;33m>\u001b[0m\u001b[1;33m,\u001b[0m\u001b[1;33m\n",
       "\u001b[0m\u001b[1;33m)\u001b[0m\u001b[1;33m\u001b[0m\u001b[1;33m\u001b[0m\u001b[0m\n",
       "\u001b[1;31mDocstring:\u001b[0m\n",
       "Upload this blob's contents from the content of a named file.\n",
       "\n",
       "The content type of the upload will be determined in order\n",
       "of precedence:\n",
       "\n",
       "- The value passed in to this method (if not :data:`None`)\n",
       "- The value stored on the current blob\n",
       "- The value given by ``mimetypes.guess_type``\n",
       "- The default value ('application/octet-stream')\n",
       "\n",
       ".. note::\n",
       "   The effect of uploading to an existing blob depends on the\n",
       "   \"versioning\" and \"lifecycle\" policies defined on the blob's\n",
       "   bucket.  In the absence of those policies, upload will\n",
       "   overwrite any existing contents.\n",
       "\n",
       "   See the [`object versioning`](https://cloud.google.com/storage/docs/object-versioning)\n",
       "   and [`lifecycle`](https://cloud.google.com/storage/docs/lifecycle)\n",
       "   API documents for details.\n",
       "\n",
       "If :attr:`user_project` is set on the bucket, bills the API request\n",
       "to that project.\n",
       "\n",
       "See a [code sample](https://cloud.google.com/storage/docs/samples/storage-upload-encrypted-file#storage_upload_encrypted_file-python)\n",
       "to upload a file with a\n",
       "[`customer-supplied encryption key`](https://cloud.google.com/storage/docs/encryption#customer-supplied).\n",
       "\n",
       ":type filename: str\n",
       ":param filename: The path to the file.\n",
       "\n",
       ":type content_type: str\n",
       ":param content_type: (Optional) Type of content being uploaded.\n",
       "\n",
       ":type client: :class:`~google.cloud.storage.client.Client`\n",
       ":param client:\n",
       "    (Optional) The client to use.  If not passed, falls back to the\n",
       "    ``client`` stored on the blob's bucket.\n",
       "\n",
       ":type num_retries: int\n",
       ":param num_retries:\n",
       "    Number of upload retries. By default, only uploads with\n",
       "    if_generation_match set will be retried, as uploads without the\n",
       "    argument are not guaranteed to be idempotent. Setting num_retries\n",
       "    will override this default behavior and guarantee retries even when\n",
       "    if_generation_match is not set.  (Deprecated: This argument\n",
       "    will be removed in a future release.)\n",
       "\n",
       ":type predefined_acl: str\n",
       ":param predefined_acl: (Optional) Predefined access control list\n",
       "\n",
       ":type if_generation_match: long\n",
       ":param if_generation_match:\n",
       "    (Optional) See :ref:`using-if-generation-match`\n",
       "\n",
       ":type if_generation_not_match: long\n",
       ":param if_generation_not_match:\n",
       "    (Optional) See :ref:`using-if-generation-not-match`\n",
       "\n",
       ":type if_metageneration_match: long\n",
       ":param if_metageneration_match:\n",
       "    (Optional) See :ref:`using-if-metageneration-match`\n",
       "\n",
       ":type if_metageneration_not_match: long\n",
       ":param if_metageneration_not_match:\n",
       "    (Optional) See :ref:`using-if-metageneration-not-match`\n",
       "\n",
       ":type timeout: float or tuple\n",
       ":param timeout:\n",
       "    (Optional) The amount of time, in seconds, to wait\n",
       "    for the server response.  See: :ref:`configuring_timeouts`\n",
       "\n",
       ":type checksum: str\n",
       ":param checksum:\n",
       "    (Optional) The type of checksum to compute to verify\n",
       "    the integrity of the object. If the upload is completed in a single\n",
       "    request, the checksum will be entirely precomputed and the remote\n",
       "    server will handle verification and error handling. If the upload\n",
       "    is too large and must be transmitted in multiple requests, the\n",
       "    checksum will be incrementally computed and the client will handle\n",
       "    verification and error handling, raising\n",
       "    google.resumable_media.common.DataCorruption on a mismatch and\n",
       "    attempting to delete the corrupted file. Supported values are\n",
       "    \"md5\", \"crc32c\" and None. The default is None.\n",
       "\n",
       ":type retry: google.api_core.retry.Retry or google.cloud.storage.retry.ConditionalRetryPolicy\n",
       ":param retry: (Optional) How to retry the RPC. A None value will disable\n",
       "    retries. A google.api_core.retry.Retry value will enable retries,\n",
       "    and the object will define retriable response codes and errors and\n",
       "    configure backoff and timeout options.\n",
       "\n",
       "    A google.cloud.storage.retry.ConditionalRetryPolicy value wraps a\n",
       "    Retry object and activates it only if certain conditions are met.\n",
       "    This class exists to provide safe defaults for RPC calls that are\n",
       "    not technically safe to retry normally (due to potential data\n",
       "    duplication or other side-effects) but become safe to retry if a\n",
       "    condition such as if_generation_match is set.\n",
       "\n",
       "    See the retry.py source code and docstrings in this package\n",
       "    (google.cloud.storage.retry) for information on retry types and how\n",
       "    to configure them.\n",
       "\n",
       "    Media operations (downloads and uploads) do not support non-default\n",
       "    predicates in a Retry object. The default will always be used. Other\n",
       "    configuration changes for Retry objects such as delays and deadlines\n",
       "    are respected.\n",
       "\u001b[1;31mFile:\u001b[0m      c:\\users\\user\\desktop\\computerscience\\udemy\\dataengineering\\environment\\lib\\site-packages\\google\\cloud\\storage\\blob.py\n",
       "\u001b[1;31mType:\u001b[0m      method"
      ]
     },
     "metadata": {},
     "output_type": "display_data"
    }
   ],
   "source": [
    "blob.upload_from_filename?"
   ]
  },
  {
   "cell_type": "code",
   "execution_count": 29,
   "metadata": {},
   "outputs": [],
   "source": [
    "#blob.upload_from_filename('../../data/retail_db/orders/part-00000')\n",
    "blob.upload_from_filename (\"c:\\\\users\\\\user\\\\desktop\\\\computerscience\\\\udemy\\\\dataengineering\\\\data-engineering-on-gcp\\\\data\\\\retail_db\\\\orders\\\\part-00000\")"
   ]
  },
  {
   "cell_type": "code",
   "execution_count": 30,
   "metadata": {},
   "outputs": [
    {
     "name": "stdout",
     "output_type": "stream",
     "text": [
      "gs://udemy-github-gcpbucket2/data2/:\n",
      "\n",
      "gs://udemy-github-gcpbucket2/data2/retail_db/:\n",
      "\n",
      "gs://udemy-github-gcpbucket2/data2/retail_db/orders/:\n",
      "gs://udemy-github-gcpbucket2/data2/retail_db/orders/part-00001\n"
     ]
    }
   ],
   "source": [
    "#!gsutil ls -r gs://airetail/pythondemo\n",
    "!gsutil ls -r gs://udemy-github-gcpbucket2/data2"
   ]
  },
  {
   "cell_type": "code",
   "execution_count": null,
   "metadata": {},
   "outputs": [],
   "source": [
    "help(gsclient.download_blob_to_file)"
   ]
  },
  {
   "cell_type": "code",
   "execution_count": 32,
   "metadata": {},
   "outputs": [],
   "source": [
    "orders_csv = open('orders.csv', 'wb')\n",
    "'''\n",
    "gsclient.download_blob_to_file(\n",
    "    'gs://airetail/pythondemo/retail_db/orders/part-00000',\n",
    "    orders_csv\n",
    ")\n",
    "'''\n",
    "gsclient.download_blob_to_file (\n",
    "    \"gs://udemy-github-gcpbucket2/data2/retail_db/orders/part-00001\",\n",
    "    orders_csv\n",
    ")\n",
    "orders_csv.close()"
   ]
  },
  {
   "cell_type": "code",
   "execution_count": null,
   "metadata": {},
   "outputs": [],
   "source": []
  }
 ],
 "metadata": {
  "kernelspec": {
   "display_name": "Python 3 (ipykernel)",
   "language": "python",
   "name": "python3"
  },
  "language_info": {
   "codemirror_mode": {
    "name": "ipython",
    "version": 3
   },
   "file_extension": ".py",
   "mimetype": "text/x-python",
   "name": "python",
   "nbconvert_exporter": "python",
   "pygments_lexer": "ipython3",
   "version": "3.10.7"
  },
  "vscode": {
   "interpreter": {
    "hash": "4a9d607f6995d470a72ac62c14cbba774ae3a8ede2bb7bb3a284130b245adccf"
   }
  }
 },
 "nbformat": 4,
 "nbformat_minor": 4
}
