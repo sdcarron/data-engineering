{
 "cells": [
  {
   "cell_type": "markdown",
   "metadata": {},
   "source": [
    "## Project to Upload Files to GCS using Python\n",
    "\n",
    "As part of the series of lectures we will see how to upload files to GCS using Python. We will be using `glob`, `os`, `storage` from `google.cloud` to build the application logic.\n",
    "\n",
    "Here are the design details.\n",
    "* First, we need to get list of file names from the local file system to upload.\n",
    "* We need to build `blob` object for each file.\n",
    "* We can use `upload_from_filename` on top of blob object to upload file as blob in GCS.\n",
    "* We will use metadata or data driven development approach to take care uploading all the files related to retail to GCS.\n",
    "* Blobs will be named using file names as reference."
   ]
  },
  {
   "cell_type": "code",
   "execution_count": 1,
   "metadata": {},
   "outputs": [
    {
     "name": "stderr",
     "output_type": "stream",
     "text": [
      "CommandException: No URLs matched: gs://udemy-retail-gcpbucket/pythondemo\n"
     ]
    }
   ],
   "source": [
    "#!gsutil rm -r gs://airetail/pythondemo\n",
    "!gsutil rm -r gs://udemy-retail-gcpbucket/pythondemo"
   ]
  },
  {
   "cell_type": "code",
   "execution_count": 2,
   "metadata": {},
   "outputs": [],
   "source": [
    "#!gsutil ls gs://airetail/\n",
    "!gsutil ls gs://udemy-retail-gcpbucket/"
   ]
  },
  {
   "cell_type": "code",
   "execution_count": 19,
   "metadata": {},
   "outputs": [],
   "source": [
    "import glob\n",
    "import os"
   ]
  },
  {
   "cell_type": "code",
   "execution_count": 20,
   "metadata": {},
   "outputs": [],
   "source": [
    "def get_file_name (src_base_dir):\n",
    "    #NOTE can also accomplish glob.glob(f'{src_base_dir}/**', recursive=True) using os.walk ()\n",
    "    items = glob.glob (f\"{src_base_dir}/**\", recursive=True)\n",
    "    return list (filter (lambda item: os.path.isfile (item) and item.endswith (\"part-00000\"), items))"
   ]
  },
  {
   "cell_type": "code",
   "execution_count": 24,
   "metadata": {},
   "outputs": [],
   "source": [
    "#src_base_dir = '../../data/retail_db'\n",
    "#src_base_dir = \"c:\\\\users\\\\user\\\\desktop\\\\computerscience\\\\udemy\\\\dataengineering\\\\data-engineering-on-gcp\\\\data\\\\retail\"\n",
    "#src_base_dir = '..\\..\\data\\retail_db'\n",
    "src_base_dir = os.path.join (os.getcwd (), \"data-engineering-on-gcp\", \"data\", \"retail_db\")"
   ]
  },
  {
   "cell_type": "code",
   "execution_count": 25,
   "metadata": {},
   "outputs": [],
   "source": [
    "#NOTE can also accomplish glob.glob(f'{src_base_dir}/**', recursive=True) using os.walk ()\n",
    "items = glob.glob(f'{src_base_dir}/**', recursive=True)"
   ]
  },
  {
   "cell_type": "code",
   "execution_count": 26,
   "metadata": {},
   "outputs": [
    {
     "data": {
      "text/plain": [
       "['C:\\\\Users\\\\User\\\\Desktop\\\\ComputerScience\\\\Udemy\\\\DataEngineering\\\\data-engineering-on-gcp\\\\data\\\\retail_db\\\\',\n",
       " 'C:\\\\Users\\\\User\\\\Desktop\\\\ComputerScience\\\\Udemy\\\\DataEngineering\\\\data-engineering-on-gcp\\\\data\\\\retail_db\\\\categories',\n",
       " 'C:\\\\Users\\\\User\\\\Desktop\\\\ComputerScience\\\\Udemy\\\\DataEngineering\\\\data-engineering-on-gcp\\\\data\\\\retail_db\\\\categories\\\\part-00000',\n",
       " 'C:\\\\Users\\\\User\\\\Desktop\\\\ComputerScience\\\\Udemy\\\\DataEngineering\\\\data-engineering-on-gcp\\\\data\\\\retail_db\\\\create_db_tables_pg.sql',\n",
       " 'C:\\\\Users\\\\User\\\\Desktop\\\\ComputerScience\\\\Udemy\\\\DataEngineering\\\\data-engineering-on-gcp\\\\data\\\\retail_db\\\\customers',\n",
       " 'C:\\\\Users\\\\User\\\\Desktop\\\\ComputerScience\\\\Udemy\\\\DataEngineering\\\\data-engineering-on-gcp\\\\data\\\\retail_db\\\\customers\\\\part-00000',\n",
       " 'C:\\\\Users\\\\User\\\\Desktop\\\\ComputerScience\\\\Udemy\\\\DataEngineering\\\\data-engineering-on-gcp\\\\data\\\\retail_db\\\\departments',\n",
       " 'C:\\\\Users\\\\User\\\\Desktop\\\\ComputerScience\\\\Udemy\\\\DataEngineering\\\\data-engineering-on-gcp\\\\data\\\\retail_db\\\\departments\\\\part-00000',\n",
       " 'C:\\\\Users\\\\User\\\\Desktop\\\\ComputerScience\\\\Udemy\\\\DataEngineering\\\\data-engineering-on-gcp\\\\data\\\\retail_db\\\\load_db_tables_pg.sql',\n",
       " 'C:\\\\Users\\\\User\\\\Desktop\\\\ComputerScience\\\\Udemy\\\\DataEngineering\\\\data-engineering-on-gcp\\\\data\\\\retail_db\\\\orders',\n",
       " 'C:\\\\Users\\\\User\\\\Desktop\\\\ComputerScience\\\\Udemy\\\\DataEngineering\\\\data-engineering-on-gcp\\\\data\\\\retail_db\\\\orders\\\\part-00000',\n",
       " 'C:\\\\Users\\\\User\\\\Desktop\\\\ComputerScience\\\\Udemy\\\\DataEngineering\\\\data-engineering-on-gcp\\\\data\\\\retail_db\\\\order_items',\n",
       " 'C:\\\\Users\\\\User\\\\Desktop\\\\ComputerScience\\\\Udemy\\\\DataEngineering\\\\data-engineering-on-gcp\\\\data\\\\retail_db\\\\order_items\\\\part-00000',\n",
       " 'C:\\\\Users\\\\User\\\\Desktop\\\\ComputerScience\\\\Udemy\\\\DataEngineering\\\\data-engineering-on-gcp\\\\data\\\\retail_db\\\\products',\n",
       " 'C:\\\\Users\\\\User\\\\Desktop\\\\ComputerScience\\\\Udemy\\\\DataEngineering\\\\data-engineering-on-gcp\\\\data\\\\retail_db\\\\products\\\\part-00000',\n",
       " 'C:\\\\Users\\\\User\\\\Desktop\\\\ComputerScience\\\\Udemy\\\\DataEngineering\\\\data-engineering-on-gcp\\\\data\\\\retail_db\\\\schemas.json']"
      ]
     },
     "execution_count": 26,
     "metadata": {},
     "output_type": "execute_result"
    }
   ],
   "source": [
    "items"
   ]
  },
  {
   "cell_type": "code",
   "execution_count": 27,
   "metadata": {},
   "outputs": [],
   "source": [
    "item = items[2]"
   ]
  },
  {
   "cell_type": "code",
   "execution_count": 28,
   "metadata": {},
   "outputs": [
    {
     "data": {
      "text/plain": [
       "'C:\\\\Users\\\\User\\\\Desktop\\\\ComputerScience\\\\Udemy\\\\DataEngineering\\\\data-engineering-on-gcp\\\\data\\\\retail_db\\\\categories\\\\part-00000'"
      ]
     },
     "execution_count": 28,
     "metadata": {},
     "output_type": "execute_result"
    }
   ],
   "source": [
    "item"
   ]
  },
  {
   "cell_type": "code",
   "execution_count": 29,
   "metadata": {},
   "outputs": [
    {
     "data": {
      "text/plain": [
       "True"
      ]
     },
     "execution_count": 29,
     "metadata": {},
     "output_type": "execute_result"
    }
   ],
   "source": [
    "import os\n",
    "os.path.isfile(item)"
   ]
  },
  {
   "cell_type": "code",
   "execution_count": 30,
   "metadata": {},
   "outputs": [],
   "source": [
    "files = filter(lambda item: os.path.isfile(item), items)"
   ]
  },
  {
   "cell_type": "code",
   "execution_count": 31,
   "metadata": {},
   "outputs": [
    {
     "data": {
      "text/plain": [
       "['C:\\\\Users\\\\User\\\\Desktop\\\\ComputerScience\\\\Udemy\\\\DataEngineering\\\\data-engineering-on-gcp\\\\data\\\\retail_db\\\\categories\\\\part-00000',\n",
       " 'C:\\\\Users\\\\User\\\\Desktop\\\\ComputerScience\\\\Udemy\\\\DataEngineering\\\\data-engineering-on-gcp\\\\data\\\\retail_db\\\\create_db_tables_pg.sql',\n",
       " 'C:\\\\Users\\\\User\\\\Desktop\\\\ComputerScience\\\\Udemy\\\\DataEngineering\\\\data-engineering-on-gcp\\\\data\\\\retail_db\\\\customers\\\\part-00000',\n",
       " 'C:\\\\Users\\\\User\\\\Desktop\\\\ComputerScience\\\\Udemy\\\\DataEngineering\\\\data-engineering-on-gcp\\\\data\\\\retail_db\\\\departments\\\\part-00000',\n",
       " 'C:\\\\Users\\\\User\\\\Desktop\\\\ComputerScience\\\\Udemy\\\\DataEngineering\\\\data-engineering-on-gcp\\\\data\\\\retail_db\\\\load_db_tables_pg.sql',\n",
       " 'C:\\\\Users\\\\User\\\\Desktop\\\\ComputerScience\\\\Udemy\\\\DataEngineering\\\\data-engineering-on-gcp\\\\data\\\\retail_db\\\\orders\\\\part-00000',\n",
       " 'C:\\\\Users\\\\User\\\\Desktop\\\\ComputerScience\\\\Udemy\\\\DataEngineering\\\\data-engineering-on-gcp\\\\data\\\\retail_db\\\\order_items\\\\part-00000',\n",
       " 'C:\\\\Users\\\\User\\\\Desktop\\\\ComputerScience\\\\Udemy\\\\DataEngineering\\\\data-engineering-on-gcp\\\\data\\\\retail_db\\\\products\\\\part-00000',\n",
       " 'C:\\\\Users\\\\User\\\\Desktop\\\\ComputerScience\\\\Udemy\\\\DataEngineering\\\\data-engineering-on-gcp\\\\data\\\\retail_db\\\\schemas.json']"
      ]
     },
     "execution_count": 31,
     "metadata": {},
     "output_type": "execute_result"
    }
   ],
   "source": [
    "list(files)"
   ]
  },
  {
   "cell_type": "code",
   "execution_count": 56,
   "metadata": {},
   "outputs": [],
   "source": [
    "#files = list(filter(lambda item: os.path.isfile(item), items))\n",
    "files = list (filter (lambda item: os.path.isfile (item) and item.endswith (\"part-00000\"), items))\n",
    "file = files[0]"
   ]
  },
  {
   "cell_type": "code",
   "execution_count": 33,
   "metadata": {},
   "outputs": [
    {
     "data": {
      "text/plain": [
       "'C:\\\\Users\\\\User\\\\Desktop\\\\ComputerScience\\\\Udemy\\\\DataEngineering\\\\data-engineering-on-gcp\\\\data\\\\retail_db\\\\categories\\\\part-00000'"
      ]
     },
     "execution_count": 33,
     "metadata": {},
     "output_type": "execute_result"
    }
   ],
   "source": [
    "file"
   ]
  },
  {
   "cell_type": "code",
   "execution_count": 52,
   "metadata": {},
   "outputs": [
    {
     "name": "stdout",
     "output_type": "stream",
     "text": [
      "['C:', 'Users', 'User', 'Desktop', 'ComputerScience', 'Udemy', 'DataEngineering', 'data-engineering-on-gcp', 'data', 'retail_db', 'categories', 'part-00000']\n"
     ]
    },
    {
     "data": {
      "text/plain": [
       "9"
      ]
     },
     "execution_count": 52,
     "metadata": {},
     "output_type": "execute_result"
    }
   ],
   "source": [
    "#file.split('/')[3:]\n",
    "print (file.split (os.sep))\n",
    "file.split (os.sep).index (\"retail_db\")"
   ]
  },
  {
   "cell_type": "code",
   "execution_count": 53,
   "metadata": {},
   "outputs": [
    {
     "data": {
      "text/plain": [
       "'retail_db/categories/part-00000'"
      ]
     },
     "execution_count": 53,
     "metadata": {},
     "output_type": "execute_result"
    }
   ],
   "source": [
    "#'/'.join(file.split('/')[3:])\n",
    "\"/\".join (file.split (os.sep)[file.split (os.sep).index (\"retail_db\"):])"
   ]
  },
  {
   "cell_type": "code",
   "execution_count": 57,
   "metadata": {},
   "outputs": [],
   "source": [
    "#tgt_base_dir = 'pythondemo'\n",
    "tgt_base_dir = \"retail_pythondemo\""
   ]
  },
  {
   "cell_type": "code",
   "execution_count": 58,
   "metadata": {},
   "outputs": [],
   "source": [
    "from google.cloud import storage"
   ]
  },
  {
   "cell_type": "code",
   "execution_count": 59,
   "metadata": {},
   "outputs": [],
   "source": [
    "gsclient = storage.Client()"
   ]
  },
  {
   "cell_type": "code",
   "execution_count": 60,
   "metadata": {},
   "outputs": [
    {
     "name": "stdout",
     "output_type": "stream",
     "text": [
      "Uploading file C:\\Users\\User\\Desktop\\ComputerScience\\Udemy\\DataEngineering\\data-engineering-on-gcp\\data\\retail_db\\categories\\part-00000\n",
      "Uploading file C:\\Users\\User\\Desktop\\ComputerScience\\Udemy\\DataEngineering\\data-engineering-on-gcp\\data\\retail_db\\customers\\part-00000\n",
      "Uploading file C:\\Users\\User\\Desktop\\ComputerScience\\Udemy\\DataEngineering\\data-engineering-on-gcp\\data\\retail_db\\departments\\part-00000\n",
      "Uploading file C:\\Users\\User\\Desktop\\ComputerScience\\Udemy\\DataEngineering\\data-engineering-on-gcp\\data\\retail_db\\orders\\part-00000\n",
      "Uploading file C:\\Users\\User\\Desktop\\ComputerScience\\Udemy\\DataEngineering\\data-engineering-on-gcp\\data\\retail_db\\order_items\\part-00000\n",
      "Uploading file C:\\Users\\User\\Desktop\\ComputerScience\\Udemy\\DataEngineering\\data-engineering-on-gcp\\data\\retail_db\\products\\part-00000\n"
     ]
    }
   ],
   "source": [
    "#files = filter(lambda item: os.path.isfile(item), items)\n",
    "files = list (filter (lambda item: os.path.isfile (item) and item.endswith (\"part-00000\"), items))\n",
    "#bucket = gsclient.get_bucket('airetail')\n",
    "bucket = gsclient.get_bucket (\"udemy-retail-gcpbucket\")\n",
    "for file in files:\n",
    "    print(f'Uploading file {file}')\n",
    "    #blob_suffix = '/'.join(file.split('/')[3:])\n",
    "    blob_suffix = \"/\".join (file.split (os.sep) [file.split (os.sep).index (\"retail_db\"):])\n",
    "    blob_name = f'{tgt_base_dir}/{blob_suffix}'\n",
    "    blob = bucket.blob(blob_name)\n",
    "    blob.upload_from_filename(file)"
   ]
  },
  {
   "cell_type": "code",
   "execution_count": 61,
   "metadata": {},
   "outputs": [
    {
     "name": "stdout",
     "output_type": "stream",
     "text": [
      "gs://udemy-retail-gcpbucket/retail_pythondemo/:\n",
      "\n",
      "gs://udemy-retail-gcpbucket/retail_pythondemo/retail_db/:\n",
      "\n",
      "gs://udemy-retail-gcpbucket/retail_pythondemo/retail_db/categories/:\n",
      "gs://udemy-retail-gcpbucket/retail_pythondemo/retail_db/categories/part-00000\n",
      "\n",
      "gs://udemy-retail-gcpbucket/retail_pythondemo/retail_db/customers/:\n",
      "gs://udemy-retail-gcpbucket/retail_pythondemo/retail_db/customers/part-00000\n",
      "\n",
      "gs://udemy-retail-gcpbucket/retail_pythondemo/retail_db/departments/:\n",
      "gs://udemy-retail-gcpbucket/retail_pythondemo/retail_db/departments/part-00000\n",
      "\n",
      "gs://udemy-retail-gcpbucket/retail_pythondemo/retail_db/order_items/:\n",
      "gs://udemy-retail-gcpbucket/retail_pythondemo/retail_db/order_items/part-00000\n",
      "\n",
      "gs://udemy-retail-gcpbucket/retail_pythondemo/retail_db/orders/:\n",
      "gs://udemy-retail-gcpbucket/retail_pythondemo/retail_db/orders/part-00000\n",
      "\n",
      "gs://udemy-retail-gcpbucket/retail_pythondemo/retail_db/products/:\n",
      "gs://udemy-retail-gcpbucket/retail_pythondemo/retail_db/products/part-00000\n"
     ]
    }
   ],
   "source": [
    "#!gsutil ls -r gs://airetail/pythondemo\n",
    "!gsutil ls -r gs://udemy-retail-gcpbucket/retail_pythondemo"
   ]
  },
  {
   "cell_type": "code",
   "execution_count": 64,
   "metadata": {},
   "outputs": [
    {
     "data": {
      "text/plain": [
       "\u001b[1;31mSignature:\u001b[0m\n",
       "\u001b[0mgsclient\u001b[0m\u001b[1;33m.\u001b[0m\u001b[0mlist_blobs\u001b[0m\u001b[1;33m(\u001b[0m\u001b[1;33m\n",
       "\u001b[0m    \u001b[0mbucket_or_name\u001b[0m\u001b[1;33m,\u001b[0m\u001b[1;33m\n",
       "\u001b[0m    \u001b[0mmax_results\u001b[0m\u001b[1;33m=\u001b[0m\u001b[1;32mNone\u001b[0m\u001b[1;33m,\u001b[0m\u001b[1;33m\n",
       "\u001b[0m    \u001b[0mpage_token\u001b[0m\u001b[1;33m=\u001b[0m\u001b[1;32mNone\u001b[0m\u001b[1;33m,\u001b[0m\u001b[1;33m\n",
       "\u001b[0m    \u001b[0mprefix\u001b[0m\u001b[1;33m=\u001b[0m\u001b[1;32mNone\u001b[0m\u001b[1;33m,\u001b[0m\u001b[1;33m\n",
       "\u001b[0m    \u001b[0mdelimiter\u001b[0m\u001b[1;33m=\u001b[0m\u001b[1;32mNone\u001b[0m\u001b[1;33m,\u001b[0m\u001b[1;33m\n",
       "\u001b[0m    \u001b[0mstart_offset\u001b[0m\u001b[1;33m=\u001b[0m\u001b[1;32mNone\u001b[0m\u001b[1;33m,\u001b[0m\u001b[1;33m\n",
       "\u001b[0m    \u001b[0mend_offset\u001b[0m\u001b[1;33m=\u001b[0m\u001b[1;32mNone\u001b[0m\u001b[1;33m,\u001b[0m\u001b[1;33m\n",
       "\u001b[0m    \u001b[0minclude_trailing_delimiter\u001b[0m\u001b[1;33m=\u001b[0m\u001b[1;32mNone\u001b[0m\u001b[1;33m,\u001b[0m\u001b[1;33m\n",
       "\u001b[0m    \u001b[0mversions\u001b[0m\u001b[1;33m=\u001b[0m\u001b[1;32mNone\u001b[0m\u001b[1;33m,\u001b[0m\u001b[1;33m\n",
       "\u001b[0m    \u001b[0mprojection\u001b[0m\u001b[1;33m=\u001b[0m\u001b[1;34m'noAcl'\u001b[0m\u001b[1;33m,\u001b[0m\u001b[1;33m\n",
       "\u001b[0m    \u001b[0mfields\u001b[0m\u001b[1;33m=\u001b[0m\u001b[1;32mNone\u001b[0m\u001b[1;33m,\u001b[0m\u001b[1;33m\n",
       "\u001b[0m    \u001b[0mpage_size\u001b[0m\u001b[1;33m=\u001b[0m\u001b[1;32mNone\u001b[0m\u001b[1;33m,\u001b[0m\u001b[1;33m\n",
       "\u001b[0m    \u001b[0mtimeout\u001b[0m\u001b[1;33m=\u001b[0m\u001b[1;36m60\u001b[0m\u001b[1;33m,\u001b[0m\u001b[1;33m\n",
       "\u001b[0m    \u001b[0mretry\u001b[0m\u001b[1;33m=\u001b[0m\u001b[1;33m<\u001b[0m\u001b[0mgoogle\u001b[0m\u001b[1;33m.\u001b[0m\u001b[0mapi_core\u001b[0m\u001b[1;33m.\u001b[0m\u001b[0mretry\u001b[0m\u001b[1;33m.\u001b[0m\u001b[0mretry_unary\u001b[0m\u001b[1;33m.\u001b[0m\u001b[0mRetry\u001b[0m \u001b[0mobject\u001b[0m \u001b[0mat\u001b[0m \u001b[1;36m0x000002497CCACE50\u001b[0m\u001b[1;33m>\u001b[0m\u001b[1;33m,\u001b[0m\u001b[1;33m\n",
       "\u001b[0m    \u001b[0mmatch_glob\u001b[0m\u001b[1;33m=\u001b[0m\u001b[1;32mNone\u001b[0m\u001b[1;33m,\u001b[0m\u001b[1;33m\n",
       "\u001b[0m\u001b[1;33m)\u001b[0m\u001b[1;33m\u001b[0m\u001b[1;33m\u001b[0m\u001b[0m\n",
       "\u001b[1;31mDocstring:\u001b[0m\n",
       "Return an iterator used to find blobs in the bucket.\n",
       "\n",
       "If :attr:`user_project` is set, bills the API request to that project.\n",
       "\n",
       ".. note::\n",
       "  List prefixes (directories) in a bucket using a prefix and delimiter.\n",
       "  See a [code sample](https://cloud.google.com/storage/docs/samples/storage-list-files-with-prefix#storage_list_files_with_prefix-python)\n",
       "  listing objects using a prefix filter.\n",
       "\n",
       "Args:\n",
       "    bucket_or_name (Union[                 :class:`~google.cloud.storage.bucket.Bucket`,                  str,             ]):\n",
       "        The bucket resource to pass or name to create.\n",
       "\n",
       "    max_results (int):\n",
       "        (Optional) The maximum number of blobs to return.\n",
       "\n",
       "    page_token (str):\n",
       "        (Optional) If present, return the next batch of blobs, using the\n",
       "        value, which must correspond to the ``nextPageToken`` value\n",
       "        returned in the previous response.  Deprecated: use the ``pages``\n",
       "        property of the returned iterator instead of manually passing the\n",
       "        token.\n",
       "\n",
       "    prefix (str):\n",
       "        (Optional) Prefix used to filter blobs.\n",
       "\n",
       "    delimiter (str):\n",
       "        (Optional) Delimiter, used with ``prefix`` to\n",
       "        emulate hierarchy.\n",
       "\n",
       "    start_offset (str):\n",
       "        (Optional) Filter results to objects whose names are\n",
       "        lexicographically equal to or after ``startOffset``. If\n",
       "        ``endOffset`` is also set, the objects listed will have names\n",
       "        between ``startOffset`` (inclusive) and ``endOffset``\n",
       "        (exclusive).\n",
       "\n",
       "    end_offset (str):\n",
       "        (Optional) Filter results to objects whose names are\n",
       "        lexicographically before ``endOffset``. If ``startOffset`` is\n",
       "        also set, the objects listed will have names between\n",
       "        ``startOffset`` (inclusive) and ``endOffset`` (exclusive).\n",
       "\n",
       "    include_trailing_delimiter (boolean):\n",
       "        (Optional) If true, objects that end in exactly one instance of\n",
       "        ``delimiter`` will have their metadata included in ``items`` in\n",
       "        addition to ``prefixes``.\n",
       "\n",
       "    versions (bool):\n",
       "        (Optional) Whether object versions should be returned\n",
       "        as separate blobs.\n",
       "\n",
       "    projection (str):\n",
       "        (Optional) If used, must be 'full' or 'noAcl'.\n",
       "        Defaults to ``'noAcl'``. Specifies the set of\n",
       "        properties to return.\n",
       "\n",
       "    fields (str):\n",
       "        (Optional) Selector specifying which fields to include\n",
       "        in a partial response. Must be a list of fields. For\n",
       "        example to get a partial response with just the next\n",
       "        page token and the name and language of each blob returned:\n",
       "        ``'items(name,contentLanguage),nextPageToken'``.\n",
       "        See: https://cloud.google.com/storage/docs/json_api/v1/parameters#fields\n",
       "\n",
       "    page_size (int):\n",
       "        (Optional) Maximum number of blobs to return in each page.\n",
       "        Defaults to a value set by the API.\n",
       "\n",
       "    timeout (Optional[Union[float, Tuple[float, float]]]):\n",
       "        The amount of time, in seconds, to wait for the server response.\n",
       "\n",
       "        Can also be passed as a tuple (connect_timeout, read_timeout).\n",
       "        See :meth:`requests.Session.request` documentation for details.\n",
       "\n",
       "    retry (Optional[Union[google.api_core.retry.Retry, google.cloud.storage.retry.ConditionalRetryPolicy]]):\n",
       "        How to retry the RPC. A None value will disable retries.\n",
       "        A google.api_core.retry.Retry value will enable retries, and the object will\n",
       "        define retriable response codes and errors and configure backoff and timeout options.\n",
       "\n",
       "        A google.cloud.storage.retry.ConditionalRetryPolicy value wraps a Retry object and\n",
       "        activates it only if certain conditions are met. This class exists to provide safe defaults\n",
       "        for RPC calls that are not technically safe to retry normally (due to potential data\n",
       "        duplication or other side-effects) but become safe to retry if a condition such as\n",
       "        if_metageneration_match is set.\n",
       "\n",
       "        See the retry.py source code and docstrings in this package (google.cloud.storage.retry) for\n",
       "        information on retry types and how to configure them.\n",
       "\n",
       "    match_glob (str):\n",
       "        (Optional) A glob pattern used to filter results (for example, foo*bar).\n",
       "        The string value must be UTF-8 encoded. See:\n",
       "        https://cloud.google.com/storage/docs/json_api/v1/objects/list#list-object-glob\n",
       "\n",
       "Returns:\n",
       "    Iterator of all :class:`~google.cloud.storage.blob.Blob`\n",
       "    in this bucket matching the arguments. The RPC call\n",
       "    returns a response when the iterator is consumed.\n",
       "\n",
       "    As part of the response, you'll also get back an iterator.prefixes entity that lists object names\n",
       "    up to and including the requested delimiter. Duplicate entries are omitted from this list.\n",
       "\u001b[1;31mFile:\u001b[0m      c:\\users\\user\\desktop\\computerscience\\udemy\\dataengineering\\environment\\lib\\site-packages\\google\\cloud\\storage\\client.py\n",
       "\u001b[1;31mType:\u001b[0m      method"
      ]
     },
     "metadata": {},
     "output_type": "display_data"
    }
   ],
   "source": [
    "gsclient.list_blobs?\n",
    "#help (gsclient.list_blobs)"
   ]
  },
  {
   "cell_type": "code",
   "execution_count": 65,
   "metadata": {},
   "outputs": [
    {
     "data": {
      "text/plain": [
       "<google.api_core.page_iterator.HTTPIterator at 0x2497ceb96f0>"
      ]
     },
     "execution_count": 65,
     "metadata": {},
     "output_type": "execute_result"
    }
   ],
   "source": [
    "'''\n",
    "gsclient.list_blobs(\n",
    "    'airetail',\n",
    "    prefix='pythondemo'\n",
    ")\n",
    "'''\n",
    "gsclient.list_blobs (\"udemy-retail-gcpbucket\", prefix=\"retail_pythondemo\")"
   ]
  },
  {
   "cell_type": "code",
   "execution_count": 66,
   "metadata": {},
   "outputs": [],
   "source": [
    "'''\n",
    "blobs = list(gsclient.list_blobs(\n",
    "    'airetail',\n",
    "    prefix='pythondemo'\n",
    "))\n",
    "'''\n",
    "blobs = list (gsclient.list_blobs (\"udemy-retail-gcpbucket\", prefix=\"\"))"
   ]
  },
  {
   "cell_type": "code",
   "execution_count": 67,
   "metadata": {},
   "outputs": [
    {
     "data": {
      "text/plain": [
       "[<Blob: udemy-retail-gcpbucket, retail_pythondemo/retail_db/categories/part-00000, 1709539445352783>,\n",
       " <Blob: udemy-retail-gcpbucket, retail_pythondemo/retail_db/customers/part-00000, 1709539446623319>,\n",
       " <Blob: udemy-retail-gcpbucket, retail_pythondemo/retail_db/departments/part-00000, 1709539447009923>,\n",
       " <Blob: udemy-retail-gcpbucket, retail_pythondemo/retail_db/order_items/part-00000, 1709539449973035>,\n",
       " <Blob: udemy-retail-gcpbucket, retail_pythondemo/retail_db/orders/part-00000, 1709539448526361>,\n",
       " <Blob: udemy-retail-gcpbucket, retail_pythondemo/retail_db/products/part-00000, 1709539450739387>]"
      ]
     },
     "execution_count": 67,
     "metadata": {},
     "output_type": "execute_result"
    }
   ],
   "source": [
    "blobs"
   ]
  },
  {
   "cell_type": "code",
   "execution_count": null,
   "metadata": {},
   "outputs": [],
   "source": []
  }
 ],
 "metadata": {
  "kernelspec": {
   "display_name": "Python 3 (ipykernel)",
   "language": "python",
   "name": "python3"
  },
  "language_info": {
   "codemirror_mode": {
    "name": "ipython",
    "version": 3
   },
   "file_extension": ".py",
   "mimetype": "text/x-python",
   "name": "python",
   "nbconvert_exporter": "python",
   "pygments_lexer": "ipython3",
   "version": "3.10.7"
  },
  "vscode": {
   "interpreter": {
    "hash": "4a9d607f6995d470a72ac62c14cbba774ae3a8ede2bb7bb3a284130b245adccf"
   }
  }
 },
 "nbformat": 4,
 "nbformat_minor": 4
}
