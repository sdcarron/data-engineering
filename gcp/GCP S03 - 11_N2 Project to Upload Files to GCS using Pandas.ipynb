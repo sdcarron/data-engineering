{
 "cells": [
  {
   "cell_type": "markdown",
   "metadata": {},
   "source": [
    "## Project to Upload Files to GCS using Pandas\n",
    "\n",
    "As part of the series of lectures we will see how to upload files to GCS using Python Pandas. We will be using `glob`, `os`, and `pandas` to build the application logic.\n",
    "\n",
    "Here are the design details.\n",
    "* First, we need to get list of file names from the local file system to upload.\n",
    "* As we want to have right column names for our data set, we need to ensure that the column names are extracted from **schemas.json** file in `data/retail_db`.\n",
    "* Once we get the file names, we can use `pd.read_csv` with `names` to create Dataframe and then write to target GCS location using `parquet` file format.\n",
    "* We will use metadata or data driven development approach to take care of uploading all the files related to retail to GCS.\n",
    "* Blobs or Files using Parquet format will be named using file names as reference."
   ]
  },
  {
   "cell_type": "code",
   "execution_count": 1,
   "metadata": {},
   "outputs": [
    {
     "name": "stdout",
     "output_type": "stream",
     "text": [
      "\n",
      "\n",
      "Updates are available for some Cloud SDK components.  To install them,\n",
      "please run:\n",
      "  $ gcloud components update\n",
      "\n",
      "CommandException: No URLs matched: gs://airetail/retail_db_parquet\n"
     ]
    }
   ],
   "source": [
    "#!gsutil rm -r gs://airetail/retail_db_parquet"
   ]
  },
  {
   "cell_type": "code",
   "execution_count": 2,
   "metadata": {},
   "outputs": [
    {
     "name": "stdout",
     "output_type": "stream",
     "text": [
      "gs://airetail/pythondemo/\n",
      "gs://airetail/retail_db/\n"
     ]
    }
   ],
   "source": [
    "#!gsutil ls gs://airetail/"
   ]
  },
  {
   "cell_type": "code",
   "execution_count": 5,
   "metadata": {},
   "outputs": [],
   "source": [
    "import glob\n",
    "import os"
   ]
  },
  {
   "cell_type": "code",
   "execution_count": 6,
   "metadata": {},
   "outputs": [],
   "source": [
    "def get_file_names(src_base_dir):\n",
    "    #NOTE can also accomplish glob.glob(f'{src_base_dir}/**', recursive=True) using os.walk ()\n",
    "    items = glob.glob(f'{src_base_dir}/**', recursive=True)\n",
    "    return list(filter(lambda item: os.path.isfile(item) and item.endswith('part-00000'), items))\n"
   ]
  },
  {
   "cell_type": "code",
   "execution_count": 7,
   "metadata": {},
   "outputs": [],
   "source": [
    "#src_base_dir = '../../data/retail_db'\n",
    "src_base_dir = os.sep.join ([os.getcwd (), \"data-engineering-on-gcp\", \"data\", \"retail_db\"])"
   ]
  },
  {
   "cell_type": "code",
   "execution_count": 8,
   "metadata": {},
   "outputs": [
    {
     "data": {
      "text/plain": [
       "['C:\\\\Users\\\\User\\\\Desktop\\\\ComputerScience\\\\Udemy\\\\DataEngineering\\\\data-engineering-on-gcp\\\\data\\\\retail_db\\\\categories\\\\part-00000',\n",
       " 'C:\\\\Users\\\\User\\\\Desktop\\\\ComputerScience\\\\Udemy\\\\DataEngineering\\\\data-engineering-on-gcp\\\\data\\\\retail_db\\\\customers\\\\part-00000',\n",
       " 'C:\\\\Users\\\\User\\\\Desktop\\\\ComputerScience\\\\Udemy\\\\DataEngineering\\\\data-engineering-on-gcp\\\\data\\\\retail_db\\\\departments\\\\part-00000',\n",
       " 'C:\\\\Users\\\\User\\\\Desktop\\\\ComputerScience\\\\Udemy\\\\DataEngineering\\\\data-engineering-on-gcp\\\\data\\\\retail_db\\\\orders\\\\part-00000',\n",
       " 'C:\\\\Users\\\\User\\\\Desktop\\\\ComputerScience\\\\Udemy\\\\DataEngineering\\\\data-engineering-on-gcp\\\\data\\\\retail_db\\\\order_items\\\\part-00000',\n",
       " 'C:\\\\Users\\\\User\\\\Desktop\\\\ComputerScience\\\\Udemy\\\\DataEngineering\\\\data-engineering-on-gcp\\\\data\\\\retail_db\\\\products\\\\part-00000']"
      ]
     },
     "execution_count": 8,
     "metadata": {},
     "output_type": "execute_result"
    }
   ],
   "source": [
    "get_file_names(src_base_dir)"
   ]
  },
  {
   "cell_type": "code",
   "execution_count": 9,
   "metadata": {},
   "outputs": [],
   "source": [
    "import json"
   ]
  },
  {
   "cell_type": "code",
   "execution_count": 11,
   "metadata": {},
   "outputs": [
    {
     "data": {
      "text/plain": [
       "{'departments': [{'column_name': 'department_id',\n",
       "   'data_type': 'integer',\n",
       "   'column_position': 1},\n",
       "  {'column_name': 'department_name',\n",
       "   'data_type': 'string',\n",
       "   'column_position': 2}],\n",
       " 'categories': [{'column_name': 'category_id',\n",
       "   'data_type': 'integer',\n",
       "   'column_position': 1},\n",
       "  {'column_name': 'category_department_id',\n",
       "   'data_type': 'integer',\n",
       "   'column_position': 2},\n",
       "  {'column_name': 'category_name',\n",
       "   'data_type': 'string',\n",
       "   'column_position': 3}],\n",
       " 'orders': [{'column_name': 'order_id',\n",
       "   'data_type': 'integer',\n",
       "   'column_position': 1},\n",
       "  {'column_name': 'order_date', 'data_type': 'string', 'column_position': 2},\n",
       "  {'column_name': 'order_customer_id',\n",
       "   'data_type': 'timestamp',\n",
       "   'column_position': 3},\n",
       "  {'column_name': 'order_status',\n",
       "   'data_type': 'string',\n",
       "   'column_position': 4}],\n",
       " 'products': [{'column_name': 'product_id',\n",
       "   'data_type': 'integer',\n",
       "   'column_position': 1},\n",
       "  {'column_name': 'product_cateogry_id',\n",
       "   'data_type': 'integer',\n",
       "   'column_position': 2},\n",
       "  {'column_name': 'product_name', 'data_type': '', 'column_position': 3},\n",
       "  {'column_name': 'product_description',\n",
       "   'data_type': 'string',\n",
       "   'column_position': 4},\n",
       "  {'column_name': 'product_price', 'data_type': 'float', 'column_position': 5},\n",
       "  {'column_name': 'product_image',\n",
       "   'data_type': 'string',\n",
       "   'column_position': 6}],\n",
       " 'customers': [{'column_name': 'customer_id',\n",
       "   'data_type': 'integer',\n",
       "   'column_position': 1},\n",
       "  {'column_name': 'customer_fname',\n",
       "   'data_type': 'string',\n",
       "   'column_position': 2},\n",
       "  {'column_name': 'customer_lname',\n",
       "   'data_type': 'string',\n",
       "   'column_position': 3},\n",
       "  {'column_name': 'customer_email',\n",
       "   'data_type': 'string',\n",
       "   'column_position': 4},\n",
       "  {'column_name': 'customer_password',\n",
       "   'data_type': 'string',\n",
       "   'column_position': 5},\n",
       "  {'column_name': 'customer_street',\n",
       "   'data_type': 'string',\n",
       "   'column_position': 6},\n",
       "  {'column_name': 'customer_city',\n",
       "   'data_type': 'string',\n",
       "   'column_position': 7},\n",
       "  {'column_name': 'customer_state',\n",
       "   'data_type': 'string',\n",
       "   'column_position': 8},\n",
       "  {'column_name': 'customer_zipcode',\n",
       "   'data_type': 'integer',\n",
       "   'column_position': 9}],\n",
       " 'order_items': [{'column_name': 'order_item_id',\n",
       "   'data_type': 'integer',\n",
       "   'column_position': 1},\n",
       "  {'column_name': 'order_item_order_id',\n",
       "   'data_type': 'integer',\n",
       "   'column_position': 2},\n",
       "  {'column_name': 'order_item_product_id',\n",
       "   'data_type': 'integer',\n",
       "   'column_position': 3},\n",
       "  {'column_name': 'order_item_quantity',\n",
       "   'data_type': 'integer',\n",
       "   'column_position': 4},\n",
       "  {'column_name': 'order_item_subtotal',\n",
       "   'data_type': 'float',\n",
       "   'column_position': 5},\n",
       "  {'column_name': 'order_item_product_price',\n",
       "   'data_type': 'float',\n",
       "   'column_position': 6}]}"
      ]
     },
     "execution_count": 11,
     "metadata": {},
     "output_type": "execute_result"
    }
   ],
   "source": [
    "#schemas = json.load(open('../../data/retail_db/schemas.json'))\n",
    "schemas = json.load (open (os.sep.join ([os.getcwd (), \"data-engineering-on-gcp\", \"data\", \"retail_db\", \"schemas.json\"])))\n",
    "schemas"
   ]
  },
  {
   "cell_type": "code",
   "execution_count": 12,
   "metadata": {},
   "outputs": [
    {
     "data": {
      "text/plain": [
       "[{'column_name': 'order_id', 'data_type': 'integer', 'column_position': 1},\n",
       " {'column_name': 'order_date', 'data_type': 'string', 'column_position': 2},\n",
       " {'column_name': 'order_customer_id',\n",
       "  'data_type': 'timestamp',\n",
       "  'column_position': 3},\n",
       " {'column_name': 'order_status', 'data_type': 'string', 'column_position': 4}]"
      ]
     },
     "execution_count": 12,
     "metadata": {},
     "output_type": "execute_result"
    }
   ],
   "source": [
    "schemas['orders']"
   ]
  },
  {
   "cell_type": "code",
   "execution_count": 13,
   "metadata": {},
   "outputs": [
    {
     "data": {
      "text/plain": [
       "[{'column_name': 'order_id', 'data_type': 'integer', 'column_position': 1},\n",
       " {'column_name': 'order_date', 'data_type': 'string', 'column_position': 2},\n",
       " {'column_name': 'order_customer_id',\n",
       "  'data_type': 'timestamp',\n",
       "  'column_position': 3},\n",
       " {'column_name': 'order_status', 'data_type': 'string', 'column_position': 4}]"
      ]
     },
     "execution_count": 13,
     "metadata": {},
     "output_type": "execute_result"
    }
   ],
   "source": [
    "sorted(schemas['orders'], key=lambda col: col['column_position'])"
   ]
  },
  {
   "cell_type": "code",
   "execution_count": 14,
   "metadata": {},
   "outputs": [
    {
     "data": {
      "text/plain": [
       "[{'column_name': 'order_id', 'data_type': 'integer', 'column_position': 1},\n",
       " {'column_name': 'order_date', 'data_type': 'string', 'column_position': 2},\n",
       " {'column_name': 'order_customer_id',\n",
       "  'data_type': 'timestamp',\n",
       "  'column_position': 3},\n",
       " {'column_name': 'order_status', 'data_type': 'string', 'column_position': 4}]"
      ]
     },
     "execution_count": 14,
     "metadata": {},
     "output_type": "execute_result"
    }
   ],
   "source": [
    "ds_schema = sorted(schemas['orders'], key=lambda col: col['column_position'])\n",
    "ds_schema"
   ]
  },
  {
   "cell_type": "code",
   "execution_count": 15,
   "metadata": {},
   "outputs": [
    {
     "data": {
      "text/plain": [
       "['order_id', 'order_date', 'order_customer_id', 'order_status']"
      ]
     },
     "execution_count": 15,
     "metadata": {},
     "output_type": "execute_result"
    }
   ],
   "source": [
    "[col['column_name'] for col in ds_schema]"
   ]
  },
  {
   "cell_type": "code",
   "execution_count": 17,
   "metadata": {},
   "outputs": [],
   "source": [
    "def get_column_names(schemas_file, ds_name):\n",
    "    schemas = json.load(open(schemas_file))\n",
    "    ds_schema = sorted(schemas[ds_name], key=lambda col: col['column_position'])\n",
    "    columns = [col['column_name'] for col in ds_schema]\n",
    "    return columns"
   ]
  },
  {
   "cell_type": "code",
   "execution_count": 18,
   "metadata": {},
   "outputs": [
    {
     "data": {
      "text/plain": [
       "['order_id', 'order_date', 'order_customer_id', 'order_status']"
      ]
     },
     "execution_count": 18,
     "metadata": {},
     "output_type": "execute_result"
    }
   ],
   "source": [
    "#get_column_names('../../data/retail_db/schemas.json', 'orders')\n",
    "get_column_names (os.sep.join ([os.getcwd (), \"data-engineering-on-gcp\", \"data\", \"retail_db\", \"schemas.json\"]), \"orders\")"
   ]
  },
  {
   "cell_type": "code",
   "execution_count": 24,
   "metadata": {},
   "outputs": [
    {
     "name": "stdout",
     "output_type": "stream",
     "text": [
      "columns for categories are category_id,category_department_id,category_name\n",
      "columns for customers are customer_id,customer_fname,customer_lname,customer_email,customer_password,customer_street,customer_city,customer_state,customer_zipcode\n",
      "columns for departments are department_id,department_name\n",
      "columns for orders are order_id,order_date,order_customer_id,order_status\n",
      "columns for order_items are order_item_id,order_item_order_id,order_item_product_id,order_item_quantity,order_item_subtotal,order_item_product_price\n",
      "columns for products are product_id,product_cateogry_id,product_name,product_description,product_price,product_image\n"
     ]
    }
   ],
   "source": [
    "'''\n",
    "for ds in [\n",
    "    'departments', 'categories', 'products',\n",
    "    'customers', 'orders', 'order_items'\n",
    "]:\n",
    "    #column_names = get_column_names('../../data/retail_db/schemas.json', ds)\n",
    "    column_names = get_column_names (os.sep.join ([os.getcwd (), \"data-engineering-on-gcp\", \"data\", \"retail_db\", \"schemas.json\"]), ds)\n",
    "    print(f\"columns for {ds} are {','.join(column_names)}\")\n",
    "'''\n",
    "\n",
    "for file_name in get_file_names (src_base_dir):\n",
    "    ds = file_name.split (os.sep) [len (file_name.split (os.sep)) - 2]\n",
    "    column_names = get_column_names (os.sep.join ([os.getcwd (), \"data-engineering-on-gcp\", \"data\", \"retail_db\", \"schemas.json\"]), ds)\n",
    "    print (f\"columns for {ds} are {','.join (column_names)}\")"
   ]
  },
  {
   "cell_type": "code",
   "execution_count": 25,
   "metadata": {},
   "outputs": [],
   "source": [
    "import pandas as pd"
   ]
  },
  {
   "cell_type": "code",
   "execution_count": 26,
   "metadata": {},
   "outputs": [],
   "source": [
    "#src_base_dir = '../../data/retail_db'\n",
    "src_base_dir = os.sep.join ([os.getcwd (), \"data-engineering-on-gcp\", \"data\", \"retail_db\"])\n",
    "#schemas_file = '../../data/retail_db/schemas.json'\n",
    "schemas_file = os.sep.join ([os.getcwd (), \"data-engineering-on-gcp\", \"data\", \"retail_db\", \"schemas.json\"])\n",
    "#bucket = 'airetail'\n",
    "bucket = \"udemy-retail-gcpbucket\"\n",
    "files = get_file_names(src_base_dir)"
   ]
  },
  {
   "cell_type": "code",
   "execution_count": 27,
   "metadata": {},
   "outputs": [
    {
     "data": {
      "text/plain": [
       "'C:\\\\Users\\\\User\\\\Desktop\\\\ComputerScience\\\\Udemy\\\\DataEngineering\\\\data-engineering-on-gcp\\\\data\\\\retail_db\\\\categories\\\\part-00000'"
      ]
     },
     "execution_count": 27,
     "metadata": {},
     "output_type": "execute_result"
    }
   ],
   "source": [
    "file = files[0]\n",
    "file"
   ]
  },
  {
   "cell_type": "code",
   "execution_count": 29,
   "metadata": {},
   "outputs": [
    {
     "data": {
      "text/plain": [
       "'categories/part-00000'"
      ]
     },
     "execution_count": 29,
     "metadata": {},
     "output_type": "execute_result"
    }
   ],
   "source": [
    "#'/'.join(file.split('/')[-2:])\n",
    "\"/\".join (file.split (os.sep) [-2:])"
   ]
  },
  {
   "cell_type": "code",
   "execution_count": 30,
   "metadata": {},
   "outputs": [
    {
     "data": {
      "text/plain": [
       "'categories'"
      ]
     },
     "execution_count": 30,
     "metadata": {},
     "output_type": "execute_result"
    }
   ],
   "source": [
    "#ds_name = file.split('/')[-2]\n",
    "ds_name = file.split (os.sep) [-2]\n",
    "ds_name"
   ]
  },
  {
   "cell_type": "code",
   "execution_count": 33,
   "metadata": {},
   "outputs": [
    {
     "data": {
      "text/plain": [
       "['customer_id',\n",
       " 'customer_fname',\n",
       " 'customer_lname',\n",
       " 'customer_email',\n",
       " 'customer_password',\n",
       " 'customer_street',\n",
       " 'customer_city',\n",
       " 'customer_state',\n",
       " 'customer_zipcode']"
      ]
     },
     "execution_count": 33,
     "metadata": {},
     "output_type": "execute_result"
    }
   ],
   "source": [
    "columns = get_column_names(schemas_file, ds_name)\n",
    "columns"
   ]
  },
  {
   "cell_type": "code",
   "execution_count": 31,
   "metadata": {},
   "outputs": [
    {
     "name": "stdout",
     "output_type": "stream",
     "text": [
      "Uploading file C:\\Users\\User\\Desktop\\ComputerScience\\Udemy\\DataEngineering\\data-engineering-on-gcp\\data\\retail_db\\categories\\part-00000\n",
      "Uploading file C:\\Users\\User\\Desktop\\ComputerScience\\Udemy\\DataEngineering\\data-engineering-on-gcp\\data\\retail_db\\customers\\part-00000\n",
      "Uploading file C:\\Users\\User\\Desktop\\ComputerScience\\Udemy\\DataEngineering\\data-engineering-on-gcp\\data\\retail_db\\departments\\part-00000\n",
      "Uploading file C:\\Users\\User\\Desktop\\ComputerScience\\Udemy\\DataEngineering\\data-engineering-on-gcp\\data\\retail_db\\orders\\part-00000\n",
      "Uploading file C:\\Users\\User\\Desktop\\ComputerScience\\Udemy\\DataEngineering\\data-engineering-on-gcp\\data\\retail_db\\order_items\\part-00000\n",
      "Uploading file C:\\Users\\User\\Desktop\\ComputerScience\\Udemy\\DataEngineering\\data-engineering-on-gcp\\data\\retail_db\\products\\part-00000\n"
     ]
    }
   ],
   "source": [
    "#src_base_dir = '../../data/retail_db'\n",
    "src_base_dir = os.sep.join ([os.getcwd (), \"data-engineering-on-gcp\", \"data\", \"retail_db\"])\n",
    "tgt_base_dir = 'retail_pythondemo/retail_db'\n",
    "#schemas_file = '../../data/retail_db/schemas.json'\n",
    "schemas_file = os.sep.join ([os.getcwd (), \"data-engineering-on-gcp\", \"data\", \"retail_db\", \"schemas.json\"])\n",
    "#bucket = 'airetail'\n",
    "bucket = \"udemy-retail-gcpbucket\"\n",
    "files = get_file_names(src_base_dir)\n",
    "for file in files:\n",
    "    print(f'Uploading file {file}')\n",
    "    #blob_suffix = '/'.join(file.split('/')[-2:])\n",
    "    blob_suffix = \"/\".join (file.split (os.sep) [len (file.split (os.sep)) - 2:])\n",
    "    #ds_name = file.split('/')[-2]\n",
    "    ds_name = file.split (os.sep) [-2]\n",
    "    blob_name = f'gs://{bucket}/{tgt_base_dir}/{blob_suffix}.snappy.parquet'\n",
    "    columns = get_column_names(schemas_file, ds_name)\n",
    "    df = pd.read_csv(file, names=columns)\n",
    "    df.to_parquet(blob_name, index=False)"
   ]
  },
  {
   "cell_type": "code",
   "execution_count": 35,
   "metadata": {},
   "outputs": [
    {
     "name": "stdout",
     "output_type": "stream",
     "text": [
      "gs://airetail/retail_db_parquet/:\n",
      "\n",
      "gs://airetail/retail_db_parquet/categories/:\n",
      "gs://airetail/retail_db_parquet/categories/part-00000.snappy.parquet\n",
      "\n",
      "gs://airetail/retail_db_parquet/customers/:\n",
      "gs://airetail/retail_db_parquet/customers/part-00000.snappy.parquet\n",
      "\n",
      "gs://airetail/retail_db_parquet/departments/:\n",
      "gs://airetail/retail_db_parquet/departments/part-00000.snappy.parquet\n",
      "\n",
      "gs://airetail/retail_db_parquet/order_items/:\n",
      "gs://airetail/retail_db_parquet/order_items/part-00000.snappy.parquet\n",
      "\n",
      "gs://airetail/retail_db_parquet/orders/:\n",
      "gs://airetail/retail_db_parquet/orders/part-00000.snappy.parquet\n",
      "\n",
      "gs://airetail/retail_db_parquet/products/:\n",
      "gs://airetail/retail_db_parquet/products/part-00000.snappy.parquet\n"
     ]
    }
   ],
   "source": [
    "!gsutil ls -r gs://airetail/retail_db_parquet"
   ]
  },
  {
   "cell_type": "code",
   "execution_count": 39,
   "metadata": {},
   "outputs": [
    {
     "data": {
      "text/html": [
       "<div>\n",
       "<style scoped>\n",
       "    .dataframe tbody tr th:only-of-type {\n",
       "        vertical-align: middle;\n",
       "    }\n",
       "\n",
       "    .dataframe tbody tr th {\n",
       "        vertical-align: top;\n",
       "    }\n",
       "\n",
       "    .dataframe thead th {\n",
       "        text-align: right;\n",
       "    }\n",
       "</style>\n",
       "<table border=\"1\" class=\"dataframe\">\n",
       "  <thead>\n",
       "    <tr style=\"text-align: right;\">\n",
       "      <th></th>\n",
       "      <th>0</th>\n",
       "      <th>1</th>\n",
       "      <th>2</th>\n",
       "      <th>3</th>\n",
       "    </tr>\n",
       "  </thead>\n",
       "  <tbody>\n",
       "    <tr>\n",
       "      <th>0</th>\n",
       "      <td>1</td>\n",
       "      <td>2013-07-25 00:00:00.0</td>\n",
       "      <td>11599</td>\n",
       "      <td>CLOSED</td>\n",
       "    </tr>\n",
       "    <tr>\n",
       "      <th>1</th>\n",
       "      <td>2</td>\n",
       "      <td>2013-07-25 00:00:00.0</td>\n",
       "      <td>256</td>\n",
       "      <td>PENDING_PAYMENT</td>\n",
       "    </tr>\n",
       "    <tr>\n",
       "      <th>2</th>\n",
       "      <td>3</td>\n",
       "      <td>2013-07-25 00:00:00.0</td>\n",
       "      <td>12111</td>\n",
       "      <td>COMPLETE</td>\n",
       "    </tr>\n",
       "    <tr>\n",
       "      <th>3</th>\n",
       "      <td>4</td>\n",
       "      <td>2013-07-25 00:00:00.0</td>\n",
       "      <td>8827</td>\n",
       "      <td>CLOSED</td>\n",
       "    </tr>\n",
       "    <tr>\n",
       "      <th>4</th>\n",
       "      <td>5</td>\n",
       "      <td>2013-07-25 00:00:00.0</td>\n",
       "      <td>11318</td>\n",
       "      <td>COMPLETE</td>\n",
       "    </tr>\n",
       "    <tr>\n",
       "      <th>...</th>\n",
       "      <td>...</td>\n",
       "      <td>...</td>\n",
       "      <td>...</td>\n",
       "      <td>...</td>\n",
       "    </tr>\n",
       "    <tr>\n",
       "      <th>68878</th>\n",
       "      <td>68879</td>\n",
       "      <td>2014-07-09 00:00:00.0</td>\n",
       "      <td>778</td>\n",
       "      <td>COMPLETE</td>\n",
       "    </tr>\n",
       "    <tr>\n",
       "      <th>68879</th>\n",
       "      <td>68880</td>\n",
       "      <td>2014-07-13 00:00:00.0</td>\n",
       "      <td>1117</td>\n",
       "      <td>COMPLETE</td>\n",
       "    </tr>\n",
       "    <tr>\n",
       "      <th>68880</th>\n",
       "      <td>68881</td>\n",
       "      <td>2014-07-19 00:00:00.0</td>\n",
       "      <td>2518</td>\n",
       "      <td>PENDING_PAYMENT</td>\n",
       "    </tr>\n",
       "    <tr>\n",
       "      <th>68881</th>\n",
       "      <td>68882</td>\n",
       "      <td>2014-07-22 00:00:00.0</td>\n",
       "      <td>10000</td>\n",
       "      <td>ON_HOLD</td>\n",
       "    </tr>\n",
       "    <tr>\n",
       "      <th>68882</th>\n",
       "      <td>68883</td>\n",
       "      <td>2014-07-23 00:00:00.0</td>\n",
       "      <td>5533</td>\n",
       "      <td>COMPLETE</td>\n",
       "    </tr>\n",
       "  </tbody>\n",
       "</table>\n",
       "<p>68883 rows × 4 columns</p>\n",
       "</div>"
      ],
      "text/plain": [
       "           0                      1      2                3\n",
       "0          1  2013-07-25 00:00:00.0  11599           CLOSED\n",
       "1          2  2013-07-25 00:00:00.0    256  PENDING_PAYMENT\n",
       "2          3  2013-07-25 00:00:00.0  12111         COMPLETE\n",
       "3          4  2013-07-25 00:00:00.0   8827           CLOSED\n",
       "4          5  2013-07-25 00:00:00.0  11318         COMPLETE\n",
       "...      ...                    ...    ...              ...\n",
       "68878  68879  2014-07-09 00:00:00.0    778         COMPLETE\n",
       "68879  68880  2014-07-13 00:00:00.0   1117         COMPLETE\n",
       "68880  68881  2014-07-19 00:00:00.0   2518  PENDING_PAYMENT\n",
       "68881  68882  2014-07-22 00:00:00.0  10000          ON_HOLD\n",
       "68882  68883  2014-07-23 00:00:00.0   5533         COMPLETE\n",
       "\n",
       "[68883 rows x 4 columns]"
      ]
     },
     "execution_count": 39,
     "metadata": {},
     "output_type": "execute_result"
    }
   ],
   "source": [
    "pd.read_csv('../../data/retail_db/orders/part-00000', header=None)"
   ]
  },
  {
   "cell_type": "code",
   "execution_count": 36,
   "metadata": {},
   "outputs": [
    {
     "data": {
      "text/html": [
       "<div>\n",
       "<style scoped>\n",
       "    .dataframe tbody tr th:only-of-type {\n",
       "        vertical-align: middle;\n",
       "    }\n",
       "\n",
       "    .dataframe tbody tr th {\n",
       "        vertical-align: top;\n",
       "    }\n",
       "\n",
       "    .dataframe thead th {\n",
       "        text-align: right;\n",
       "    }\n",
       "</style>\n",
       "<table border=\"1\" class=\"dataframe\">\n",
       "  <thead>\n",
       "    <tr style=\"text-align: right;\">\n",
       "      <th></th>\n",
       "      <th>order_id</th>\n",
       "      <th>order_date</th>\n",
       "      <th>order_customer_id</th>\n",
       "      <th>order_status</th>\n",
       "    </tr>\n",
       "  </thead>\n",
       "  <tbody>\n",
       "    <tr>\n",
       "      <th>0</th>\n",
       "      <td>1</td>\n",
       "      <td>2013-07-25 00:00:00.0</td>\n",
       "      <td>11599</td>\n",
       "      <td>CLOSED</td>\n",
       "    </tr>\n",
       "    <tr>\n",
       "      <th>1</th>\n",
       "      <td>2</td>\n",
       "      <td>2013-07-25 00:00:00.0</td>\n",
       "      <td>256</td>\n",
       "      <td>PENDING_PAYMENT</td>\n",
       "    </tr>\n",
       "    <tr>\n",
       "      <th>2</th>\n",
       "      <td>3</td>\n",
       "      <td>2013-07-25 00:00:00.0</td>\n",
       "      <td>12111</td>\n",
       "      <td>COMPLETE</td>\n",
       "    </tr>\n",
       "    <tr>\n",
       "      <th>3</th>\n",
       "      <td>4</td>\n",
       "      <td>2013-07-25 00:00:00.0</td>\n",
       "      <td>8827</td>\n",
       "      <td>CLOSED</td>\n",
       "    </tr>\n",
       "    <tr>\n",
       "      <th>4</th>\n",
       "      <td>5</td>\n",
       "      <td>2013-07-25 00:00:00.0</td>\n",
       "      <td>11318</td>\n",
       "      <td>COMPLETE</td>\n",
       "    </tr>\n",
       "    <tr>\n",
       "      <th>...</th>\n",
       "      <td>...</td>\n",
       "      <td>...</td>\n",
       "      <td>...</td>\n",
       "      <td>...</td>\n",
       "    </tr>\n",
       "    <tr>\n",
       "      <th>68878</th>\n",
       "      <td>68879</td>\n",
       "      <td>2014-07-09 00:00:00.0</td>\n",
       "      <td>778</td>\n",
       "      <td>COMPLETE</td>\n",
       "    </tr>\n",
       "    <tr>\n",
       "      <th>68879</th>\n",
       "      <td>68880</td>\n",
       "      <td>2014-07-13 00:00:00.0</td>\n",
       "      <td>1117</td>\n",
       "      <td>COMPLETE</td>\n",
       "    </tr>\n",
       "    <tr>\n",
       "      <th>68880</th>\n",
       "      <td>68881</td>\n",
       "      <td>2014-07-19 00:00:00.0</td>\n",
       "      <td>2518</td>\n",
       "      <td>PENDING_PAYMENT</td>\n",
       "    </tr>\n",
       "    <tr>\n",
       "      <th>68881</th>\n",
       "      <td>68882</td>\n",
       "      <td>2014-07-22 00:00:00.0</td>\n",
       "      <td>10000</td>\n",
       "      <td>ON_HOLD</td>\n",
       "    </tr>\n",
       "    <tr>\n",
       "      <th>68882</th>\n",
       "      <td>68883</td>\n",
       "      <td>2014-07-23 00:00:00.0</td>\n",
       "      <td>5533</td>\n",
       "      <td>COMPLETE</td>\n",
       "    </tr>\n",
       "  </tbody>\n",
       "</table>\n",
       "<p>68883 rows × 4 columns</p>\n",
       "</div>"
      ],
      "text/plain": [
       "       order_id             order_date  order_customer_id     order_status\n",
       "0             1  2013-07-25 00:00:00.0              11599           CLOSED\n",
       "1             2  2013-07-25 00:00:00.0                256  PENDING_PAYMENT\n",
       "2             3  2013-07-25 00:00:00.0              12111         COMPLETE\n",
       "3             4  2013-07-25 00:00:00.0               8827           CLOSED\n",
       "4             5  2013-07-25 00:00:00.0              11318         COMPLETE\n",
       "...         ...                    ...                ...              ...\n",
       "68878     68879  2014-07-09 00:00:00.0                778         COMPLETE\n",
       "68879     68880  2014-07-13 00:00:00.0               1117         COMPLETE\n",
       "68880     68881  2014-07-19 00:00:00.0               2518  PENDING_PAYMENT\n",
       "68881     68882  2014-07-22 00:00:00.0              10000          ON_HOLD\n",
       "68882     68883  2014-07-23 00:00:00.0               5533         COMPLETE\n",
       "\n",
       "[68883 rows x 4 columns]"
      ]
     },
     "execution_count": 36,
     "metadata": {},
     "output_type": "execute_result"
    }
   ],
   "source": [
    "pd.read_parquet('gs://airetail/retail_db_parquet/orders/part-00000.snappy.parquet')"
   ]
  },
  {
   "cell_type": "code",
   "execution_count": 41,
   "metadata": {},
   "outputs": [
    {
     "name": "stdout",
     "output_type": "stream",
     "text": [
      "Shape of departments in local files system is (6, 2)\n",
      "Shape of categories in local files system is (58, 3)\n",
      "Shape of products in local files system is (1345, 6)\n",
      "Shape of customers in local files system is (12435, 9)\n",
      "Shape of orders in local files system is (68883, 4)\n",
      "Shape of order_items in local files system is (172198, 6)\n"
     ]
    }
   ],
   "source": [
    "for ds in [\n",
    "    'departments', 'categories', 'products',\n",
    "    'customers', 'orders', 'order_items'\n",
    "]:\n",
    "    df = pd.read_csv(f'../../data/retail_db/{ds}/part-00000', header=None)\n",
    "    print(f'''Shape of {ds} in local files system is {df.shape}''')"
   ]
  },
  {
   "cell_type": "code",
   "execution_count": 42,
   "metadata": {},
   "outputs": [
    {
     "name": "stdout",
     "output_type": "stream",
     "text": [
      "Shape of departments in gcs is (6, 2)\n",
      "Shape of categories in gcs is (58, 3)\n",
      "Shape of products in gcs is (1345, 6)\n",
      "Shape of customers in gcs is (12435, 9)\n",
      "Shape of orders in gcs is (68883, 4)\n",
      "Shape of order_items in gcs is (172198, 6)\n"
     ]
    }
   ],
   "source": [
    "for ds in [\n",
    "    'departments', 'categories', 'products',\n",
    "    'customers', 'orders', 'order_items'\n",
    "]:\n",
    "    df = pd.read_parquet(f'gs://{bucket}/{tgt_base_dir}/{ds}/part-00000.snappy.parquet')\n",
    "    print(f'''Shape of {ds} in gcs is {df.shape}''')"
   ]
  },
  {
   "cell_type": "code",
   "execution_count": 61,
   "metadata": {},
   "outputs": [
    {
     "name": "stdout",
     "output_type": "stream",
     "text": [
      "   category_id  category_department_id        category_name\n",
      "0            1                       2             Football\n",
      "1            2                       2               Soccer\n",
      "2            3                       2  Baseball & Softball\n",
      "3            4                       2           Basketball\n",
      "4            5                       2             Lacrosse\n",
      "   customer_id customer_fname customer_lname customer_email customer_password  \\\n",
      "0            1        Richard      Hernandez      XXXXXXXXX         XXXXXXXXX   \n",
      "1            2           Mary        Barrett      XXXXXXXXX         XXXXXXXXX   \n",
      "2            3            Ann          Smith      XXXXXXXXX         XXXXXXXXX   \n",
      "3            4           Mary          Jones      XXXXXXXXX         XXXXXXXXX   \n",
      "4            5         Robert         Hudson      XXXXXXXXX         XXXXXXXXX   \n",
      "\n",
      "           customer_street customer_city customer_state  customer_zipcode  \n",
      "0       6303 Heather Plaza   Brownsville             TX             78521  \n",
      "1  9526 Noble Embers Ridge     Littleton             CO             80126  \n",
      "2   3422 Blue Pioneer Bend        Caguas             PR               725  \n",
      "3       8324 Little Common    San Marcos             CA             92069  \n",
      "4   10 Crystal River Mall         Caguas             PR               725  \n",
      "   department_id department_name\n",
      "0              2         Fitness\n",
      "1              3        Footwear\n",
      "2              4         Apparel\n",
      "3              5            Golf\n",
      "4              6        Outdoors\n",
      "   order_item_id  order_item_order_id  order_item_product_id  \\\n",
      "0              1                    1                    957   \n",
      "1              2                    2                   1073   \n",
      "2              3                    2                    502   \n",
      "3              4                    2                    403   \n",
      "4              5                    4                    897   \n",
      "\n",
      "   order_item_quantity  order_item_subtotal  order_item_product_price  \n",
      "0                    1               299.98                    299.98  \n",
      "1                    1               199.99                    199.99  \n",
      "2                    5               250.00                     50.00  \n",
      "3                    1               129.99                    129.99  \n",
      "4                    2                49.98                     24.99  \n",
      "   order_id             order_date  order_customer_id     order_status\n",
      "0         1  2013-07-25 00:00:00.0              11599           CLOSED\n",
      "1         2  2013-07-25 00:00:00.0                256  PENDING_PAYMENT\n",
      "2         3  2013-07-25 00:00:00.0              12111         COMPLETE\n",
      "3         4  2013-07-25 00:00:00.0               8827           CLOSED\n",
      "4         5  2013-07-25 00:00:00.0              11318         COMPLETE\n",
      "   product_id  product_cateogry_id  \\\n",
      "0           1                    2   \n",
      "1           2                    2   \n",
      "2           3                    2   \n",
      "3           4                    2   \n",
      "4           5                    2   \n",
      "\n",
      "                                    product_name  product_description  \\\n",
      "0  Quest Q64 10 FT. x 10 FT. Slant Leg Instant U                  NaN   \n",
      "1  Under Armour Men's Highlight MC Football Clea                  NaN   \n",
      "2  Under Armour Men's Renegade D Mid Football Cl                  NaN   \n",
      "3  Under Armour Men's Renegade D Mid Football Cl                  NaN   \n",
      "4  Riddell Youth Revolution Speed Custom Footbal                  NaN   \n",
      "\n",
      "   product_price                                      product_image  \n",
      "0          59.98  http://images.acmesports.sports/Quest+Q64+10+F...  \n",
      "1         129.99  http://images.acmesports.sports/Under+Armour+M...  \n",
      "2          89.99  http://images.acmesports.sports/Under+Armour+M...  \n",
      "3          89.99  http://images.acmesports.sports/Under+Armour+M...  \n",
      "4         199.99  http://images.acmesports.sports/Riddell+Youth+...  \n"
     ]
    }
   ],
   "source": [
    "from  google.cloud import storage\n",
    "client = storage.Client ()\n",
    "\n",
    "#bucket = client.bucket (\"gs://udemy-retail-gcpbucket\")\n",
    "\n",
    "#help (bucket)\n",
    "#bucket\n",
    "#blobs = list (bucket.list_blobs ())\n",
    "#blobs\n",
    "#help (bucket.list_blobs ())\n",
    "#blobs = client.list_blobs (\"gs://udemy-retail-gcpbucket\")\n",
    "blobs = client.list_blobs (\"udemy-retail-gcpbucket\")\n",
    "items = list (blobs)\n",
    "#help (client)\n",
    "for item in items:\n",
    "    #print (item.name)\n",
    "    uri = \"/\".join ([\"gs://udemy-retail-gcpbucket\", item.name])\n",
    "    df = pd.read_parquet (uri)\n",
    "    print (df.head ())"
   ]
  },
  {
   "cell_type": "code",
   "execution_count": null,
   "metadata": {},
   "outputs": [],
   "source": []
  }
 ],
 "metadata": {
  "kernelspec": {
   "display_name": "Python 3 (ipykernel)",
   "language": "python",
   "name": "python3"
  },
  "language_info": {
   "codemirror_mode": {
    "name": "ipython",
    "version": 3
   },
   "file_extension": ".py",
   "mimetype": "text/x-python",
   "name": "python",
   "nbconvert_exporter": "python",
   "pygments_lexer": "ipython3",
   "version": "3.10.7"
  },
  "vscode": {
   "interpreter": {
    "hash": "4a9d607f6995d470a72ac62c14cbba774ae3a8ede2bb7bb3a284130b245adccf"
   }
  }
 },
 "nbformat": 4,
 "nbformat_minor": 4
}
